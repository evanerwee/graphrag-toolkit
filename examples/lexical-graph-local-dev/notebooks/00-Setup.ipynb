{
 "cells": [
  {
   "cell_type": "markdown",
   "id": "65a1effc",
   "metadata": {},
   "source": [
    "# Desktop Setup using Postgre"
   ]
  },
  {
   "cell_type": "markdown",
   "id": "a4fd436a",
   "metadata": {},
   "source": [
    "Install the graphrag-toolkit-lexical-graph:"
   ]
  },
  {
   "cell_type": "code",
   "id": "a3947399",
   "metadata": {
    "ExecuteTime": {
     "end_time": "2025-05-29T15:50:22.031394Z",
     "start_time": "2025-05-29T15:50:19.969547Z"
    }
   },
   "source": [
    "!pip install https://github.com/awslabs/graphrag-toolkit/archive/refs/tags/v3.7.0.zip#subdirectory=lexical-graph"
   ],
   "outputs": [
    {
     "name": "stdout",
     "output_type": "stream",
     "text": [
      "Collecting https://github.com/awslabs/graphrag-toolkit/archive/refs/tags/v3.7.0.zip#subdirectory=lexical-graph\r\n",
      "  Using cached https://github.com/awslabs/graphrag-toolkit/archive/refs/tags/v3.7.0.zip\r\n",
      "  Installing build dependencies ... \u001B[?25ldone\r\n",
      "\u001B[?25h  Getting requirements to build wheel ... \u001B[?25ldone\r\n",
      "\u001B[?25h  Preparing metadata (pyproject.toml) ... \u001B[?25ldone\r\n",
      "\u001B[?25hRequirement already satisfied: anthropic-bedrock==0.8.0 in /home/evanerwee/Prod/graphrag-toolkit/.venv/lib/python3.12/site-packages (from graphrag-toolkit-lexical-graph==3.7.0) (0.8.0)\r\n",
      "Requirement already satisfied: boto3>=1.36.1 in /home/evanerwee/Prod/graphrag-toolkit/.venv/lib/python3.12/site-packages (from graphrag-toolkit-lexical-graph==3.7.0) (1.36.1)\r\n",
      "Requirement already satisfied: botocore>=1.36.1 in /home/evanerwee/Prod/graphrag-toolkit/.venv/lib/python3.12/site-packages (from graphrag-toolkit-lexical-graph==3.7.0) (1.36.1)\r\n",
      "Requirement already satisfied: json2xml==5.0.5 in /home/evanerwee/Prod/graphrag-toolkit/.venv/lib/python3.12/site-packages (from graphrag-toolkit-lexical-graph==3.7.0) (5.0.5)\r\n",
      "Requirement already satisfied: llama-index-core==0.12.37 in /home/evanerwee/Prod/graphrag-toolkit/.venv/lib/python3.12/site-packages (from graphrag-toolkit-lexical-graph==3.7.0) (0.12.37)\r\n",
      "Requirement already satisfied: llama-index-embeddings-bedrock==0.5.0 in /home/evanerwee/Prod/graphrag-toolkit/.venv/lib/python3.12/site-packages (from graphrag-toolkit-lexical-graph==3.7.0) (0.5.0)\r\n",
      "Requirement already satisfied: llama-index-llms-anthropic==0.6.19 in /home/evanerwee/Prod/graphrag-toolkit/.venv/lib/python3.12/site-packages (from graphrag-toolkit-lexical-graph==3.7.0) (0.6.19)\r\n",
      "Requirement already satisfied: llama-index-llms-bedrock-converse==0.6.0 in /home/evanerwee/Prod/graphrag-toolkit/.venv/lib/python3.12/site-packages (from graphrag-toolkit-lexical-graph==3.7.0) (0.6.0)\r\n",
      "Requirement already satisfied: lru-dict==1.3.0 in /home/evanerwee/Prod/graphrag-toolkit/.venv/lib/python3.12/site-packages (from graphrag-toolkit-lexical-graph==3.7.0) (1.3.0)\r\n",
      "Requirement already satisfied: pipe==2.2 in /home/evanerwee/Prod/graphrag-toolkit/.venv/lib/python3.12/site-packages (from graphrag-toolkit-lexical-graph==3.7.0) (2.2)\r\n",
      "Requirement already satisfied: python-dotenv==1.0.1 in /home/evanerwee/Prod/graphrag-toolkit/.venv/lib/python3.12/site-packages (from graphrag-toolkit-lexical-graph==3.7.0) (1.0.1)\r\n",
      "Requirement already satisfied: smart_open==7.1.0 in /home/evanerwee/Prod/graphrag-toolkit/.venv/lib/python3.12/site-packages (from graphrag-toolkit-lexical-graph==3.7.0) (7.1.0)\r\n",
      "Requirement already satisfied: spacy==3.7.5 in /home/evanerwee/Prod/graphrag-toolkit/.venv/lib/python3.12/site-packages (from graphrag-toolkit-lexical-graph==3.7.0) (3.7.5)\r\n",
      "Requirement already satisfied: tfidf_matcher==0.3.0 in /home/evanerwee/Prod/graphrag-toolkit/.venv/lib/python3.12/site-packages (from graphrag-toolkit-lexical-graph==3.7.0) (0.3.0)\r\n",
      "Requirement already satisfied: anyio<5,>=3.5.0 in /home/evanerwee/Prod/graphrag-toolkit/.venv/lib/python3.12/site-packages (from anthropic-bedrock==0.8.0->graphrag-toolkit-lexical-graph==3.7.0) (4.9.0)\r\n",
      "Requirement already satisfied: distro<2,>=1.7.0 in /home/evanerwee/Prod/graphrag-toolkit/.venv/lib/python3.12/site-packages (from anthropic-bedrock==0.8.0->graphrag-toolkit-lexical-graph==3.7.0) (1.9.0)\r\n",
      "Requirement already satisfied: httpx<1,>=0.23.0 in /home/evanerwee/Prod/graphrag-toolkit/.venv/lib/python3.12/site-packages (from anthropic-bedrock==0.8.0->graphrag-toolkit-lexical-graph==3.7.0) (0.28.1)\r\n",
      "Requirement already satisfied: pydantic<3,>=1.9.0 in /home/evanerwee/Prod/graphrag-toolkit/.venv/lib/python3.12/site-packages (from anthropic-bedrock==0.8.0->graphrag-toolkit-lexical-graph==3.7.0) (2.11.5)\r\n",
      "Requirement already satisfied: sniffio in /home/evanerwee/Prod/graphrag-toolkit/.venv/lib/python3.12/site-packages (from anthropic-bedrock==0.8.0->graphrag-toolkit-lexical-graph==3.7.0) (1.3.1)\r\n",
      "Requirement already satisfied: tokenizers>=0.13.0 in /home/evanerwee/Prod/graphrag-toolkit/.venv/lib/python3.12/site-packages (from anthropic-bedrock==0.8.0->graphrag-toolkit-lexical-graph==3.7.0) (0.21.1)\r\n",
      "Requirement already satisfied: typing-extensions<5,>=4.7 in /home/evanerwee/Prod/graphrag-toolkit/.venv/lib/python3.12/site-packages (from anthropic-bedrock==0.8.0->graphrag-toolkit-lexical-graph==3.7.0) (4.13.2)\r\n",
      "Requirement already satisfied: defusedxml in /home/evanerwee/Prod/graphrag-toolkit/.venv/lib/python3.12/site-packages (from json2xml==5.0.5->graphrag-toolkit-lexical-graph==3.7.0) (0.7.1)\r\n",
      "Requirement already satisfied: urllib3 in /home/evanerwee/Prod/graphrag-toolkit/.venv/lib/python3.12/site-packages (from json2xml==5.0.5->graphrag-toolkit-lexical-graph==3.7.0) (2.4.0)\r\n",
      "Requirement already satisfied: aiohttp<4,>=3.8.6 in /home/evanerwee/Prod/graphrag-toolkit/.venv/lib/python3.12/site-packages (from llama-index-core==0.12.37->graphrag-toolkit-lexical-graph==3.7.0) (3.12.2)\r\n",
      "Requirement already satisfied: aiosqlite in /home/evanerwee/Prod/graphrag-toolkit/.venv/lib/python3.12/site-packages (from llama-index-core==0.12.37->graphrag-toolkit-lexical-graph==3.7.0) (0.21.0)\r\n",
      "Requirement already satisfied: banks<3,>=2.0.0 in /home/evanerwee/Prod/graphrag-toolkit/.venv/lib/python3.12/site-packages (from llama-index-core==0.12.37->graphrag-toolkit-lexical-graph==3.7.0) (2.1.2)\r\n",
      "Requirement already satisfied: dataclasses-json in /home/evanerwee/Prod/graphrag-toolkit/.venv/lib/python3.12/site-packages (from llama-index-core==0.12.37->graphrag-toolkit-lexical-graph==3.7.0) (0.6.7)\r\n",
      "Requirement already satisfied: deprecated>=1.2.9.3 in /home/evanerwee/Prod/graphrag-toolkit/.venv/lib/python3.12/site-packages (from llama-index-core==0.12.37->graphrag-toolkit-lexical-graph==3.7.0) (1.2.18)\r\n",
      "Requirement already satisfied: dirtyjson<2,>=1.0.8 in /home/evanerwee/Prod/graphrag-toolkit/.venv/lib/python3.12/site-packages (from llama-index-core==0.12.37->graphrag-toolkit-lexical-graph==3.7.0) (1.0.8)\r\n",
      "Requirement already satisfied: filetype<2,>=1.2.0 in /home/evanerwee/Prod/graphrag-toolkit/.venv/lib/python3.12/site-packages (from llama-index-core==0.12.37->graphrag-toolkit-lexical-graph==3.7.0) (1.2.0)\r\n",
      "Requirement already satisfied: fsspec>=2023.5.0 in /home/evanerwee/Prod/graphrag-toolkit/.venv/lib/python3.12/site-packages (from llama-index-core==0.12.37->graphrag-toolkit-lexical-graph==3.7.0) (2025.3.0)\r\n",
      "Requirement already satisfied: nest-asyncio<2,>=1.5.8 in /home/evanerwee/Prod/graphrag-toolkit/.venv/lib/python3.12/site-packages (from llama-index-core==0.12.37->graphrag-toolkit-lexical-graph==3.7.0) (1.6.0)\r\n",
      "Requirement already satisfied: networkx>=3.0 in /home/evanerwee/Prod/graphrag-toolkit/.venv/lib/python3.12/site-packages (from llama-index-core==0.12.37->graphrag-toolkit-lexical-graph==3.7.0) (3.4.2)\r\n",
      "Requirement already satisfied: nltk>3.8.1 in /home/evanerwee/Prod/graphrag-toolkit/.venv/lib/python3.12/site-packages (from llama-index-core==0.12.37->graphrag-toolkit-lexical-graph==3.7.0) (3.9.1)\r\n",
      "Requirement already satisfied: numpy in /home/evanerwee/Prod/graphrag-toolkit/.venv/lib/python3.12/site-packages (from llama-index-core==0.12.37->graphrag-toolkit-lexical-graph==3.7.0) (1.26.4)\r\n",
      "Requirement already satisfied: pillow>=9.0.0 in /home/evanerwee/Prod/graphrag-toolkit/.venv/lib/python3.12/site-packages (from llama-index-core==0.12.37->graphrag-toolkit-lexical-graph==3.7.0) (11.2.1)\r\n",
      "Requirement already satisfied: pyyaml>=6.0.1 in /home/evanerwee/Prod/graphrag-toolkit/.venv/lib/python3.12/site-packages (from llama-index-core==0.12.37->graphrag-toolkit-lexical-graph==3.7.0) (6.0.2)\r\n",
      "Requirement already satisfied: requests>=2.31.0 in /home/evanerwee/Prod/graphrag-toolkit/.venv/lib/python3.12/site-packages (from llama-index-core==0.12.37->graphrag-toolkit-lexical-graph==3.7.0) (2.32.3)\r\n",
      "Requirement already satisfied: sqlalchemy>=1.4.49 in /home/evanerwee/Prod/graphrag-toolkit/.venv/lib/python3.12/site-packages (from sqlalchemy[asyncio]>=1.4.49->llama-index-core==0.12.37->graphrag-toolkit-lexical-graph==3.7.0) (2.0.41)\r\n",
      "Requirement already satisfied: tenacity!=8.4.0,<10.0.0,>=8.2.0 in /home/evanerwee/Prod/graphrag-toolkit/.venv/lib/python3.12/site-packages (from llama-index-core==0.12.37->graphrag-toolkit-lexical-graph==3.7.0) (9.1.2)\r\n",
      "Requirement already satisfied: tiktoken>=0.7.0 in /home/evanerwee/Prod/graphrag-toolkit/.venv/lib/python3.12/site-packages (from llama-index-core==0.12.37->graphrag-toolkit-lexical-graph==3.7.0) (0.9.0)\r\n",
      "Requirement already satisfied: tqdm<5,>=4.66.1 in /home/evanerwee/Prod/graphrag-toolkit/.venv/lib/python3.12/site-packages (from llama-index-core==0.12.37->graphrag-toolkit-lexical-graph==3.7.0) (4.67.1)\r\n",
      "Requirement already satisfied: typing-inspect>=0.8.0 in /home/evanerwee/Prod/graphrag-toolkit/.venv/lib/python3.12/site-packages (from llama-index-core==0.12.37->graphrag-toolkit-lexical-graph==3.7.0) (0.9.0)\r\n",
      "Requirement already satisfied: wrapt in /home/evanerwee/Prod/graphrag-toolkit/.venv/lib/python3.12/site-packages (from llama-index-core==0.12.37->graphrag-toolkit-lexical-graph==3.7.0) (1.17.2)\r\n",
      "Requirement already satisfied: aioboto3<14.0.0,>=13.1.1 in /home/evanerwee/Prod/graphrag-toolkit/.venv/lib/python3.12/site-packages (from llama-index-embeddings-bedrock==0.5.0->graphrag-toolkit-lexical-graph==3.7.0) (13.4.0)\r\n",
      "Requirement already satisfied: anthropic>=0.52.0 in /home/evanerwee/Prod/graphrag-toolkit/.venv/lib/python3.12/site-packages (from anthropic[bedrock,vertex]>=0.52.0->llama-index-llms-anthropic==0.6.19->graphrag-toolkit-lexical-graph==3.7.0) (0.52.1)\r\n",
      "Requirement already satisfied: spacy-legacy<3.1.0,>=3.0.11 in /home/evanerwee/Prod/graphrag-toolkit/.venv/lib/python3.12/site-packages (from spacy==3.7.5->graphrag-toolkit-lexical-graph==3.7.0) (3.0.12)\r\n",
      "Requirement already satisfied: spacy-loggers<2.0.0,>=1.0.0 in /home/evanerwee/Prod/graphrag-toolkit/.venv/lib/python3.12/site-packages (from spacy==3.7.5->graphrag-toolkit-lexical-graph==3.7.0) (1.0.5)\r\n",
      "Requirement already satisfied: murmurhash<1.1.0,>=0.28.0 in /home/evanerwee/Prod/graphrag-toolkit/.venv/lib/python3.12/site-packages (from spacy==3.7.5->graphrag-toolkit-lexical-graph==3.7.0) (1.0.13)\r\n",
      "Requirement already satisfied: cymem<2.1.0,>=2.0.2 in /home/evanerwee/Prod/graphrag-toolkit/.venv/lib/python3.12/site-packages (from spacy==3.7.5->graphrag-toolkit-lexical-graph==3.7.0) (2.0.11)\r\n",
      "Requirement already satisfied: preshed<3.1.0,>=3.0.2 in /home/evanerwee/Prod/graphrag-toolkit/.venv/lib/python3.12/site-packages (from spacy==3.7.5->graphrag-toolkit-lexical-graph==3.7.0) (3.0.10)\r\n",
      "Requirement already satisfied: thinc<8.3.0,>=8.2.2 in /home/evanerwee/Prod/graphrag-toolkit/.venv/lib/python3.12/site-packages (from spacy==3.7.5->graphrag-toolkit-lexical-graph==3.7.0) (8.2.5)\r\n",
      "Requirement already satisfied: wasabi<1.2.0,>=0.9.1 in /home/evanerwee/Prod/graphrag-toolkit/.venv/lib/python3.12/site-packages (from spacy==3.7.5->graphrag-toolkit-lexical-graph==3.7.0) (1.1.3)\r\n",
      "Requirement already satisfied: srsly<3.0.0,>=2.4.3 in /home/evanerwee/Prod/graphrag-toolkit/.venv/lib/python3.12/site-packages (from spacy==3.7.5->graphrag-toolkit-lexical-graph==3.7.0) (2.5.1)\r\n",
      "Requirement already satisfied: catalogue<2.1.0,>=2.0.6 in /home/evanerwee/Prod/graphrag-toolkit/.venv/lib/python3.12/site-packages (from spacy==3.7.5->graphrag-toolkit-lexical-graph==3.7.0) (2.0.10)\r\n",
      "Requirement already satisfied: weasel<0.5.0,>=0.1.0 in /home/evanerwee/Prod/graphrag-toolkit/.venv/lib/python3.12/site-packages (from spacy==3.7.5->graphrag-toolkit-lexical-graph==3.7.0) (0.4.1)\r\n",
      "Requirement already satisfied: typer<1.0.0,>=0.3.0 in /home/evanerwee/Prod/graphrag-toolkit/.venv/lib/python3.12/site-packages (from spacy==3.7.5->graphrag-toolkit-lexical-graph==3.7.0) (0.16.0)\r\n",
      "Requirement already satisfied: jinja2 in /home/evanerwee/Prod/graphrag-toolkit/.venv/lib/python3.12/site-packages (from spacy==3.7.5->graphrag-toolkit-lexical-graph==3.7.0) (3.1.6)\r\n",
      "Requirement already satisfied: setuptools in /home/evanerwee/Prod/graphrag-toolkit/.venv/lib/python3.12/site-packages (from spacy==3.7.5->graphrag-toolkit-lexical-graph==3.7.0) (80.9.0)\r\n",
      "Requirement already satisfied: packaging>=20.0 in /home/evanerwee/Prod/graphrag-toolkit/.venv/lib/python3.12/site-packages (from spacy==3.7.5->graphrag-toolkit-lexical-graph==3.7.0) (25.0)\r\n",
      "Requirement already satisfied: langcodes<4.0.0,>=3.2.0 in /home/evanerwee/Prod/graphrag-toolkit/.venv/lib/python3.12/site-packages (from spacy==3.7.5->graphrag-toolkit-lexical-graph==3.7.0) (3.5.0)\r\n",
      "Requirement already satisfied: scikit-learn in /home/evanerwee/Prod/graphrag-toolkit/.venv/lib/python3.12/site-packages (from tfidf_matcher==0.3.0->graphrag-toolkit-lexical-graph==3.7.0) (1.6.1)\r\n",
      "Requirement already satisfied: pandas in /home/evanerwee/Prod/graphrag-toolkit/.venv/lib/python3.12/site-packages (from tfidf_matcher==0.3.0->graphrag-toolkit-lexical-graph==3.7.0) (2.2.3)\r\n",
      "Requirement already satisfied: jmespath<2.0.0,>=0.7.1 in /home/evanerwee/Prod/graphrag-toolkit/.venv/lib/python3.12/site-packages (from boto3>=1.36.1->graphrag-toolkit-lexical-graph==3.7.0) (1.0.1)\r\n",
      "Requirement already satisfied: s3transfer<0.12.0,>=0.11.0 in /home/evanerwee/Prod/graphrag-toolkit/.venv/lib/python3.12/site-packages (from boto3>=1.36.1->graphrag-toolkit-lexical-graph==3.7.0) (0.11.3)\r\n",
      "Requirement already satisfied: python-dateutil<3.0.0,>=2.1 in /home/evanerwee/Prod/graphrag-toolkit/.venv/lib/python3.12/site-packages (from botocore>=1.36.1->graphrag-toolkit-lexical-graph==3.7.0) (2.9.0.post0)\r\n",
      "Requirement already satisfied: aiobotocore==2.18.0 in /home/evanerwee/Prod/graphrag-toolkit/.venv/lib/python3.12/site-packages (from aiobotocore[boto3]==2.18.0->aioboto3<14.0.0,>=13.1.1->llama-index-embeddings-bedrock==0.5.0->graphrag-toolkit-lexical-graph==3.7.0) (2.18.0)\r\n",
      "Requirement already satisfied: aiofiles>=23.2.1 in /home/evanerwee/Prod/graphrag-toolkit/.venv/lib/python3.12/site-packages (from aioboto3<14.0.0,>=13.1.1->llama-index-embeddings-bedrock==0.5.0->graphrag-toolkit-lexical-graph==3.7.0) (24.1.0)\r\n",
      "Requirement already satisfied: aioitertools<1.0.0,>=0.5.1 in /home/evanerwee/Prod/graphrag-toolkit/.venv/lib/python3.12/site-packages (from aiobotocore==2.18.0->aiobotocore[boto3]==2.18.0->aioboto3<14.0.0,>=13.1.1->llama-index-embeddings-bedrock==0.5.0->graphrag-toolkit-lexical-graph==3.7.0) (0.12.0)\r\n",
      "Requirement already satisfied: multidict<7.0.0,>=6.0.0 in /home/evanerwee/Prod/graphrag-toolkit/.venv/lib/python3.12/site-packages (from aiobotocore==2.18.0->aiobotocore[boto3]==2.18.0->aioboto3<14.0.0,>=13.1.1->llama-index-embeddings-bedrock==0.5.0->graphrag-toolkit-lexical-graph==3.7.0) (6.4.4)\r\n",
      "Requirement already satisfied: aiohappyeyeballs>=2.5.0 in /home/evanerwee/Prod/graphrag-toolkit/.venv/lib/python3.12/site-packages (from aiohttp<4,>=3.8.6->llama-index-core==0.12.37->graphrag-toolkit-lexical-graph==3.7.0) (2.6.1)\r\n",
      "Requirement already satisfied: aiosignal>=1.1.2 in /home/evanerwee/Prod/graphrag-toolkit/.venv/lib/python3.12/site-packages (from aiohttp<4,>=3.8.6->llama-index-core==0.12.37->graphrag-toolkit-lexical-graph==3.7.0) (1.3.2)\r\n",
      "Requirement already satisfied: attrs>=17.3.0 in /home/evanerwee/Prod/graphrag-toolkit/.venv/lib/python3.12/site-packages (from aiohttp<4,>=3.8.6->llama-index-core==0.12.37->graphrag-toolkit-lexical-graph==3.7.0) (25.3.0)\r\n",
      "Requirement already satisfied: frozenlist>=1.1.1 in /home/evanerwee/Prod/graphrag-toolkit/.venv/lib/python3.12/site-packages (from aiohttp<4,>=3.8.6->llama-index-core==0.12.37->graphrag-toolkit-lexical-graph==3.7.0) (1.6.0)\r\n",
      "Requirement already satisfied: propcache>=0.2.0 in /home/evanerwee/Prod/graphrag-toolkit/.venv/lib/python3.12/site-packages (from aiohttp<4,>=3.8.6->llama-index-core==0.12.37->graphrag-toolkit-lexical-graph==3.7.0) (0.3.1)\r\n",
      "Requirement already satisfied: yarl<2.0,>=1.17.0 in /home/evanerwee/Prod/graphrag-toolkit/.venv/lib/python3.12/site-packages (from aiohttp<4,>=3.8.6->llama-index-core==0.12.37->graphrag-toolkit-lexical-graph==3.7.0) (1.20.0)\r\n",
      "Requirement already satisfied: jiter<1,>=0.4.0 in /home/evanerwee/Prod/graphrag-toolkit/.venv/lib/python3.12/site-packages (from anthropic>=0.52.0->anthropic[bedrock,vertex]>=0.52.0->llama-index-llms-anthropic==0.6.19->graphrag-toolkit-lexical-graph==3.7.0) (0.10.0)\r\n",
      "Requirement already satisfied: google-auth<3,>=2 in /home/evanerwee/Prod/graphrag-toolkit/.venv/lib/python3.12/site-packages (from google-auth[requests]<3,>=2; extra == \"vertex\"->anthropic[bedrock,vertex]>=0.52.0->llama-index-llms-anthropic==0.6.19->graphrag-toolkit-lexical-graph==3.7.0) (2.40.2)\r\n",
      "Requirement already satisfied: idna>=2.8 in /home/evanerwee/Prod/graphrag-toolkit/.venv/lib/python3.12/site-packages (from anyio<5,>=3.5.0->anthropic-bedrock==0.8.0->graphrag-toolkit-lexical-graph==3.7.0) (3.10)\r\n",
      "Requirement already satisfied: griffe in /home/evanerwee/Prod/graphrag-toolkit/.venv/lib/python3.12/site-packages (from banks<3,>=2.0.0->llama-index-core==0.12.37->graphrag-toolkit-lexical-graph==3.7.0) (1.7.3)\r\n",
      "Requirement already satisfied: platformdirs in /home/evanerwee/Prod/graphrag-toolkit/.venv/lib/python3.12/site-packages (from banks<3,>=2.0.0->llama-index-core==0.12.37->graphrag-toolkit-lexical-graph==3.7.0) (4.3.8)\r\n",
      "Requirement already satisfied: certifi in /home/evanerwee/Prod/graphrag-toolkit/.venv/lib/python3.12/site-packages (from httpx<1,>=0.23.0->anthropic-bedrock==0.8.0->graphrag-toolkit-lexical-graph==3.7.0) (2025.4.26)\r\n",
      "Requirement already satisfied: httpcore==1.* in /home/evanerwee/Prod/graphrag-toolkit/.venv/lib/python3.12/site-packages (from httpx<1,>=0.23.0->anthropic-bedrock==0.8.0->graphrag-toolkit-lexical-graph==3.7.0) (1.0.9)\r\n",
      "Requirement already satisfied: h11>=0.16 in /home/evanerwee/Prod/graphrag-toolkit/.venv/lib/python3.12/site-packages (from httpcore==1.*->httpx<1,>=0.23.0->anthropic-bedrock==0.8.0->graphrag-toolkit-lexical-graph==3.7.0) (0.16.0)\r\n",
      "Requirement already satisfied: language-data>=1.2 in /home/evanerwee/Prod/graphrag-toolkit/.venv/lib/python3.12/site-packages (from langcodes<4.0.0,>=3.2.0->spacy==3.7.5->graphrag-toolkit-lexical-graph==3.7.0) (1.3.0)\r\n",
      "Requirement already satisfied: click in /home/evanerwee/Prod/graphrag-toolkit/.venv/lib/python3.12/site-packages (from nltk>3.8.1->llama-index-core==0.12.37->graphrag-toolkit-lexical-graph==3.7.0) (8.2.1)\r\n",
      "Requirement already satisfied: joblib in /home/evanerwee/Prod/graphrag-toolkit/.venv/lib/python3.12/site-packages (from nltk>3.8.1->llama-index-core==0.12.37->graphrag-toolkit-lexical-graph==3.7.0) (1.5.1)\r\n",
      "Requirement already satisfied: regex>=2021.8.3 in /home/evanerwee/Prod/graphrag-toolkit/.venv/lib/python3.12/site-packages (from nltk>3.8.1->llama-index-core==0.12.37->graphrag-toolkit-lexical-graph==3.7.0) (2024.11.6)\r\n",
      "Requirement already satisfied: annotated-types>=0.6.0 in /home/evanerwee/Prod/graphrag-toolkit/.venv/lib/python3.12/site-packages (from pydantic<3,>=1.9.0->anthropic-bedrock==0.8.0->graphrag-toolkit-lexical-graph==3.7.0) (0.7.0)\r\n",
      "Requirement already satisfied: pydantic-core==2.33.2 in /home/evanerwee/Prod/graphrag-toolkit/.venv/lib/python3.12/site-packages (from pydantic<3,>=1.9.0->anthropic-bedrock==0.8.0->graphrag-toolkit-lexical-graph==3.7.0) (2.33.2)\r\n",
      "Requirement already satisfied: typing-inspection>=0.4.0 in /home/evanerwee/Prod/graphrag-toolkit/.venv/lib/python3.12/site-packages (from pydantic<3,>=1.9.0->anthropic-bedrock==0.8.0->graphrag-toolkit-lexical-graph==3.7.0) (0.4.1)\r\n",
      "Requirement already satisfied: six>=1.5 in /home/evanerwee/Prod/graphrag-toolkit/.venv/lib/python3.12/site-packages (from python-dateutil<3.0.0,>=2.1->botocore>=1.36.1->graphrag-toolkit-lexical-graph==3.7.0) (1.17.0)\r\n",
      "Requirement already satisfied: charset-normalizer<4,>=2 in /home/evanerwee/Prod/graphrag-toolkit/.venv/lib/python3.12/site-packages (from requests>=2.31.0->llama-index-core==0.12.37->graphrag-toolkit-lexical-graph==3.7.0) (3.4.2)\r\n",
      "Requirement already satisfied: greenlet>=1 in /home/evanerwee/Prod/graphrag-toolkit/.venv/lib/python3.12/site-packages (from sqlalchemy>=1.4.49->sqlalchemy[asyncio]>=1.4.49->llama-index-core==0.12.37->graphrag-toolkit-lexical-graph==3.7.0) (3.2.2)\r\n",
      "Requirement already satisfied: blis<0.8.0,>=0.7.8 in /home/evanerwee/Prod/graphrag-toolkit/.venv/lib/python3.12/site-packages (from thinc<8.3.0,>=8.2.2->spacy==3.7.5->graphrag-toolkit-lexical-graph==3.7.0) (0.7.11)\r\n",
      "Requirement already satisfied: confection<1.0.0,>=0.0.1 in /home/evanerwee/Prod/graphrag-toolkit/.venv/lib/python3.12/site-packages (from thinc<8.3.0,>=8.2.2->spacy==3.7.5->graphrag-toolkit-lexical-graph==3.7.0) (0.1.5)\r\n",
      "Requirement already satisfied: huggingface-hub<1.0,>=0.16.4 in /home/evanerwee/Prod/graphrag-toolkit/.venv/lib/python3.12/site-packages (from tokenizers>=0.13.0->anthropic-bedrock==0.8.0->graphrag-toolkit-lexical-graph==3.7.0) (0.32.2)\r\n",
      "Requirement already satisfied: shellingham>=1.3.0 in /home/evanerwee/Prod/graphrag-toolkit/.venv/lib/python3.12/site-packages (from typer<1.0.0,>=0.3.0->spacy==3.7.5->graphrag-toolkit-lexical-graph==3.7.0) (1.5.4)\r\n",
      "Requirement already satisfied: rich>=10.11.0 in /home/evanerwee/Prod/graphrag-toolkit/.venv/lib/python3.12/site-packages (from typer<1.0.0,>=0.3.0->spacy==3.7.5->graphrag-toolkit-lexical-graph==3.7.0) (14.0.0)\r\n",
      "Requirement already satisfied: mypy-extensions>=0.3.0 in /home/evanerwee/Prod/graphrag-toolkit/.venv/lib/python3.12/site-packages (from typing-inspect>=0.8.0->llama-index-core==0.12.37->graphrag-toolkit-lexical-graph==3.7.0) (1.1.0)\r\n",
      "Requirement already satisfied: cloudpathlib<1.0.0,>=0.7.0 in /home/evanerwee/Prod/graphrag-toolkit/.venv/lib/python3.12/site-packages (from weasel<0.5.0,>=0.1.0->spacy==3.7.5->graphrag-toolkit-lexical-graph==3.7.0) (0.21.1)\r\n",
      "Requirement already satisfied: marshmallow<4.0.0,>=3.18.0 in /home/evanerwee/Prod/graphrag-toolkit/.venv/lib/python3.12/site-packages (from dataclasses-json->llama-index-core==0.12.37->graphrag-toolkit-lexical-graph==3.7.0) (3.26.1)\r\n",
      "Requirement already satisfied: MarkupSafe>=2.0 in /home/evanerwee/Prod/graphrag-toolkit/.venv/lib/python3.12/site-packages (from jinja2->spacy==3.7.5->graphrag-toolkit-lexical-graph==3.7.0) (3.0.2)\r\n",
      "Requirement already satisfied: pytz>=2020.1 in /home/evanerwee/Prod/graphrag-toolkit/.venv/lib/python3.12/site-packages (from pandas->tfidf_matcher==0.3.0->graphrag-toolkit-lexical-graph==3.7.0) (2025.2)\r\n",
      "Requirement already satisfied: tzdata>=2022.7 in /home/evanerwee/Prod/graphrag-toolkit/.venv/lib/python3.12/site-packages (from pandas->tfidf_matcher==0.3.0->graphrag-toolkit-lexical-graph==3.7.0) (2025.2)\r\n",
      "Requirement already satisfied: scipy>=1.6.0 in /home/evanerwee/Prod/graphrag-toolkit/.venv/lib/python3.12/site-packages (from scikit-learn->tfidf_matcher==0.3.0->graphrag-toolkit-lexical-graph==3.7.0) (1.15.3)\r\n",
      "Requirement already satisfied: threadpoolctl>=3.1.0 in /home/evanerwee/Prod/graphrag-toolkit/.venv/lib/python3.12/site-packages (from scikit-learn->tfidf_matcher==0.3.0->graphrag-toolkit-lexical-graph==3.7.0) (3.6.0)\r\n",
      "Requirement already satisfied: cachetools<6.0,>=2.0.0 in /home/evanerwee/Prod/graphrag-toolkit/.venv/lib/python3.12/site-packages (from google-auth<3,>=2->google-auth[requests]<3,>=2; extra == \"vertex\"->anthropic[bedrock,vertex]>=0.52.0->llama-index-llms-anthropic==0.6.19->graphrag-toolkit-lexical-graph==3.7.0) (5.5.2)\r\n",
      "Requirement already satisfied: pyasn1-modules>=0.2.1 in /home/evanerwee/Prod/graphrag-toolkit/.venv/lib/python3.12/site-packages (from google-auth<3,>=2->google-auth[requests]<3,>=2; extra == \"vertex\"->anthropic[bedrock,vertex]>=0.52.0->llama-index-llms-anthropic==0.6.19->graphrag-toolkit-lexical-graph==3.7.0) (0.4.2)\r\n",
      "Requirement already satisfied: rsa<5,>=3.1.4 in /home/evanerwee/Prod/graphrag-toolkit/.venv/lib/python3.12/site-packages (from google-auth<3,>=2->google-auth[requests]<3,>=2; extra == \"vertex\"->anthropic[bedrock,vertex]>=0.52.0->llama-index-llms-anthropic==0.6.19->graphrag-toolkit-lexical-graph==3.7.0) (4.9.1)\r\n",
      "Requirement already satisfied: filelock in /home/evanerwee/Prod/graphrag-toolkit/.venv/lib/python3.12/site-packages (from huggingface-hub<1.0,>=0.16.4->tokenizers>=0.13.0->anthropic-bedrock==0.8.0->graphrag-toolkit-lexical-graph==3.7.0) (3.18.0)\r\n",
      "Requirement already satisfied: hf-xet<2.0.0,>=1.1.2 in /home/evanerwee/Prod/graphrag-toolkit/.venv/lib/python3.12/site-packages (from huggingface-hub<1.0,>=0.16.4->tokenizers>=0.13.0->anthropic-bedrock==0.8.0->graphrag-toolkit-lexical-graph==3.7.0) (1.1.2)\r\n",
      "Requirement already satisfied: marisa-trie>=1.1.0 in /home/evanerwee/Prod/graphrag-toolkit/.venv/lib/python3.12/site-packages (from language-data>=1.2->langcodes<4.0.0,>=3.2.0->spacy==3.7.5->graphrag-toolkit-lexical-graph==3.7.0) (1.2.1)\r\n",
      "Requirement already satisfied: markdown-it-py>=2.2.0 in /home/evanerwee/Prod/graphrag-toolkit/.venv/lib/python3.12/site-packages (from rich>=10.11.0->typer<1.0.0,>=0.3.0->spacy==3.7.5->graphrag-toolkit-lexical-graph==3.7.0) (3.0.0)\r\n",
      "Requirement already satisfied: pygments<3.0.0,>=2.13.0 in /home/evanerwee/Prod/graphrag-toolkit/.venv/lib/python3.12/site-packages (from rich>=10.11.0->typer<1.0.0,>=0.3.0->spacy==3.7.5->graphrag-toolkit-lexical-graph==3.7.0) (2.19.1)\r\n",
      "Requirement already satisfied: colorama>=0.4 in /home/evanerwee/Prod/graphrag-toolkit/.venv/lib/python3.12/site-packages (from griffe->banks<3,>=2.0.0->llama-index-core==0.12.37->graphrag-toolkit-lexical-graph==3.7.0) (0.4.6)\r\n",
      "Requirement already satisfied: mdurl~=0.1 in /home/evanerwee/Prod/graphrag-toolkit/.venv/lib/python3.12/site-packages (from markdown-it-py>=2.2.0->rich>=10.11.0->typer<1.0.0,>=0.3.0->spacy==3.7.5->graphrag-toolkit-lexical-graph==3.7.0) (0.1.2)\r\n",
      "Requirement already satisfied: pyasn1<0.7.0,>=0.6.1 in /home/evanerwee/Prod/graphrag-toolkit/.venv/lib/python3.12/site-packages (from pyasn1-modules>=0.2.1->google-auth<3,>=2->google-auth[requests]<3,>=2; extra == \"vertex\"->anthropic[bedrock,vertex]>=0.52.0->llama-index-llms-anthropic==0.6.19->graphrag-toolkit-lexical-graph==3.7.0) (0.6.1)\r\n",
      "\r\n",
      "\u001B[1m[\u001B[0m\u001B[34;49mnotice\u001B[0m\u001B[1;39;49m]\u001B[0m\u001B[39;49m A new release of pip is available: \u001B[0m\u001B[31;49m25.0.1\u001B[0m\u001B[39;49m -> \u001B[0m\u001B[32;49m25.1.1\u001B[0m\r\n",
      "\u001B[1m[\u001B[0m\u001B[34;49mnotice\u001B[0m\u001B[1;39;49m]\u001B[0m\u001B[39;49m To update, run: \u001B[0m\u001B[32;49mpip install --upgrade pip\u001B[0m\r\n"
     ]
    }
   ],
   "execution_count": 8
  },
  {
   "cell_type": "code",
   "id": "d2aab3c4d991059",
   "metadata": {
    "ExecuteTime": {
     "end_time": "2025-05-29T15:50:23.744400Z",
     "start_time": "2025-05-29T15:50:22.037816Z"
    }
   },
   "source": [
    "!pip install https://github.com/awslabs/graphrag-toolkit/archive/refs/tags/v3.7.0.zip#subdirectory=lexical-graph-contrib/falkordb"
   ],
   "outputs": [
    {
     "name": "stdout",
     "output_type": "stream",
     "text": [
      "Collecting https://github.com/awslabs/graphrag-toolkit/archive/refs/tags/v3.7.0.zip#subdirectory=lexical-graph-contrib/falkordb\r\n",
      "  Using cached https://github.com/awslabs/graphrag-toolkit/archive/refs/tags/v3.7.0.zip\r\n",
      "  Installing build dependencies ... \u001B[?25ldone\r\n",
      "\u001B[?25h  Getting requirements to build wheel ... \u001B[?25ldone\r\n",
      "\u001B[?25h  Preparing metadata (pyproject.toml) ... \u001B[?25ldone\r\n",
      "\u001B[?25hRequirement already satisfied: FalkorDB in /home/evanerwee/Prod/graphrag-toolkit/.venv/lib/python3.12/site-packages (from graphrag-toolkit-lexical-graph-falkordb==1.0.1) (1.1.2)\r\n",
      "Requirement already satisfied: redis in /home/evanerwee/Prod/graphrag-toolkit/.venv/lib/python3.12/site-packages (from graphrag-toolkit-lexical-graph-falkordb==1.0.1) (5.3.0)\r\n",
      "Requirement already satisfied: PyJWT~=2.9.0 in /home/evanerwee/Prod/graphrag-toolkit/.venv/lib/python3.12/site-packages (from redis->graphrag-toolkit-lexical-graph-falkordb==1.0.1) (2.9.0)\r\n",
      "\r\n",
      "\u001B[1m[\u001B[0m\u001B[34;49mnotice\u001B[0m\u001B[1;39;49m]\u001B[0m\u001B[39;49m A new release of pip is available: \u001B[0m\u001B[31;49m25.0.1\u001B[0m\u001B[39;49m -> \u001B[0m\u001B[32;49m25.1.1\u001B[0m\r\n",
      "\u001B[1m[\u001B[0m\u001B[34;49mnotice\u001B[0m\u001B[1;39;49m]\u001B[0m\u001B[39;49m To update, run: \u001B[0m\u001B[32;49mpip install --upgrade pip\u001B[0m\r\n"
     ]
    }
   ],
   "execution_count": 9
  },
  {
   "cell_type": "markdown",
   "id": "7d043070",
   "metadata": {},
   "source": [
    "### Postgres with pgvector\n",
    "\n",
    "If you are using a Postgres database with the pgvector extension as a vector store, install the following dependencies:"
   ]
  },
  {
   "cell_type": "code",
   "id": "cb0cd0a5",
   "metadata": {
    "ExecuteTime": {
     "end_time": "2025-05-29T15:50:24.202809Z",
     "start_time": "2025-05-29T15:50:23.750018Z"
    }
   },
   "source": [
    "!pip install psycopg2-binary pgvector"
   ],
   "outputs": [
    {
     "name": "stdout",
     "output_type": "stream",
     "text": [
      "Requirement already satisfied: psycopg2-binary in /home/evanerwee/Prod/graphrag-toolkit/.venv/lib/python3.12/site-packages (2.9.10)\r\n",
      "Requirement already satisfied: pgvector in /home/evanerwee/Prod/graphrag-toolkit/.venv/lib/python3.12/site-packages (0.4.1)\r\n",
      "Requirement already satisfied: numpy in /home/evanerwee/Prod/graphrag-toolkit/.venv/lib/python3.12/site-packages (from pgvector) (1.26.4)\r\n",
      "\r\n",
      "\u001B[1m[\u001B[0m\u001B[34;49mnotice\u001B[0m\u001B[1;39;49m]\u001B[0m\u001B[39;49m A new release of pip is available: \u001B[0m\u001B[31;49m25.0.1\u001B[0m\u001B[39;49m -> \u001B[0m\u001B[32;49m25.1.1\u001B[0m\r\n",
      "\u001B[1m[\u001B[0m\u001B[34;49mnotice\u001B[0m\u001B[1;39;49m]\u001B[0m\u001B[39;49m To update, run: \u001B[0m\u001B[32;49mpip install --upgrade pip\u001B[0m\r\n"
     ]
    }
   ],
   "execution_count": 10
  },
  {
   "cell_type": "markdown",
   "id": "d2a8c967",
   "metadata": {},
   "source": [
    "## Additional dependencies"
   ]
  },
  {
   "cell_type": "markdown",
   "id": "a49587ec",
   "metadata": {},
   "source": [
    "### LlamaIndex"
   ]
  },
  {
   "cell_type": "markdown",
   "id": "402f329a",
   "metadata": {},
   "source": [
    "Install any necessary LlamaIndex reader depedencies. For the examples in these notebooks, you'll need the Web readers:"
   ]
  },
  {
   "cell_type": "code",
   "id": "f439752b",
   "metadata": {
    "ExecuteTime": {
     "end_time": "2025-05-29T15:50:24.730831Z",
     "start_time": "2025-05-29T15:50:24.208182Z"
    }
   },
   "source": [
    "!pip install llama-index-readers-web"
   ],
   "outputs": [
    {
     "name": "stdout",
     "output_type": "stream",
     "text": [
      "Requirement already satisfied: llama-index-readers-web in /home/evanerwee/Prod/graphrag-toolkit/.venv/lib/python3.12/site-packages (0.4.1)\r\n",
      "Requirement already satisfied: aiohttp<4,>=3.9.1 in /home/evanerwee/Prod/graphrag-toolkit/.venv/lib/python3.12/site-packages (from llama-index-readers-web) (3.12.2)\r\n",
      "Requirement already satisfied: beautifulsoup4<5,>=4.12.3 in /home/evanerwee/Prod/graphrag-toolkit/.venv/lib/python3.12/site-packages (from llama-index-readers-web) (4.13.4)\r\n",
      "Requirement already satisfied: chromedriver-autoinstaller<0.7,>=0.6.3 in /home/evanerwee/Prod/graphrag-toolkit/.venv/lib/python3.12/site-packages (from llama-index-readers-web) (0.6.4)\r\n",
      "Requirement already satisfied: defusedxml<0.8,>=0.7.1 in /home/evanerwee/Prod/graphrag-toolkit/.venv/lib/python3.12/site-packages (from llama-index-readers-web) (0.7.1)\r\n",
      "Requirement already satisfied: html2text<2025,>=2024.2.26 in /home/evanerwee/Prod/graphrag-toolkit/.venv/lib/python3.12/site-packages (from llama-index-readers-web) (2024.2.26)\r\n",
      "Requirement already satisfied: httpx>=0.28.1 in /home/evanerwee/Prod/graphrag-toolkit/.venv/lib/python3.12/site-packages (from llama-index-readers-web) (0.28.1)\r\n",
      "Requirement already satisfied: llama-index-core<0.13,>=0.12.0 in /home/evanerwee/Prod/graphrag-toolkit/.venv/lib/python3.12/site-packages (from llama-index-readers-web) (0.12.37)\r\n",
      "Requirement already satisfied: lxml-html-clean>=0.4.2 in /home/evanerwee/Prod/graphrag-toolkit/.venv/lib/python3.12/site-packages (from llama-index-readers-web) (0.4.2)\r\n",
      "Requirement already satisfied: lxml>=5.4.0 in /home/evanerwee/Prod/graphrag-toolkit/.venv/lib/python3.12/site-packages (from llama-index-readers-web) (5.4.0)\r\n",
      "Requirement already satisfied: markdownify>=1.1.0 in /home/evanerwee/Prod/graphrag-toolkit/.venv/lib/python3.12/site-packages (from llama-index-readers-web) (1.1.0)\r\n",
      "Requirement already satisfied: newspaper3k<0.3,>=0.2.8 in /home/evanerwee/Prod/graphrag-toolkit/.venv/lib/python3.12/site-packages (from llama-index-readers-web) (0.2.8)\r\n",
      "Requirement already satisfied: oxylabs>=2.0.0 in /home/evanerwee/Prod/graphrag-toolkit/.venv/lib/python3.12/site-packages (from llama-index-readers-web) (2.0.0)\r\n",
      "Requirement already satisfied: playwright<2.0,>=1.30 in /home/evanerwee/Prod/graphrag-toolkit/.venv/lib/python3.12/site-packages (from llama-index-readers-web) (1.52.0)\r\n",
      "Requirement already satisfied: requests<3,>=2.31.0 in /home/evanerwee/Prod/graphrag-toolkit/.venv/lib/python3.12/site-packages (from llama-index-readers-web) (2.32.3)\r\n",
      "Requirement already satisfied: selenium<5,>=4.17.2 in /home/evanerwee/Prod/graphrag-toolkit/.venv/lib/python3.12/site-packages (from llama-index-readers-web) (4.33.0)\r\n",
      "Requirement already satisfied: spider-client<0.0.28,>=0.0.27 in /home/evanerwee/Prod/graphrag-toolkit/.venv/lib/python3.12/site-packages (from llama-index-readers-web) (0.0.27)\r\n",
      "Requirement already satisfied: urllib3>=1.1.0 in /home/evanerwee/Prod/graphrag-toolkit/.venv/lib/python3.12/site-packages (from llama-index-readers-web) (2.4.0)\r\n",
      "Requirement already satisfied: aiohappyeyeballs>=2.5.0 in /home/evanerwee/Prod/graphrag-toolkit/.venv/lib/python3.12/site-packages (from aiohttp<4,>=3.9.1->llama-index-readers-web) (2.6.1)\r\n",
      "Requirement already satisfied: aiosignal>=1.1.2 in /home/evanerwee/Prod/graphrag-toolkit/.venv/lib/python3.12/site-packages (from aiohttp<4,>=3.9.1->llama-index-readers-web) (1.3.2)\r\n",
      "Requirement already satisfied: attrs>=17.3.0 in /home/evanerwee/Prod/graphrag-toolkit/.venv/lib/python3.12/site-packages (from aiohttp<4,>=3.9.1->llama-index-readers-web) (25.3.0)\r\n",
      "Requirement already satisfied: frozenlist>=1.1.1 in /home/evanerwee/Prod/graphrag-toolkit/.venv/lib/python3.12/site-packages (from aiohttp<4,>=3.9.1->llama-index-readers-web) (1.6.0)\r\n",
      "Requirement already satisfied: multidict<7.0,>=4.5 in /home/evanerwee/Prod/graphrag-toolkit/.venv/lib/python3.12/site-packages (from aiohttp<4,>=3.9.1->llama-index-readers-web) (6.4.4)\r\n",
      "Requirement already satisfied: propcache>=0.2.0 in /home/evanerwee/Prod/graphrag-toolkit/.venv/lib/python3.12/site-packages (from aiohttp<4,>=3.9.1->llama-index-readers-web) (0.3.1)\r\n",
      "Requirement already satisfied: yarl<2.0,>=1.17.0 in /home/evanerwee/Prod/graphrag-toolkit/.venv/lib/python3.12/site-packages (from aiohttp<4,>=3.9.1->llama-index-readers-web) (1.20.0)\r\n",
      "Requirement already satisfied: soupsieve>1.2 in /home/evanerwee/Prod/graphrag-toolkit/.venv/lib/python3.12/site-packages (from beautifulsoup4<5,>=4.12.3->llama-index-readers-web) (2.7)\r\n",
      "Requirement already satisfied: typing-extensions>=4.0.0 in /home/evanerwee/Prod/graphrag-toolkit/.venv/lib/python3.12/site-packages (from beautifulsoup4<5,>=4.12.3->llama-index-readers-web) (4.13.2)\r\n",
      "Requirement already satisfied: packaging>=23.1 in /home/evanerwee/Prod/graphrag-toolkit/.venv/lib/python3.12/site-packages (from chromedriver-autoinstaller<0.7,>=0.6.3->llama-index-readers-web) (25.0)\r\n",
      "Requirement already satisfied: anyio in /home/evanerwee/Prod/graphrag-toolkit/.venv/lib/python3.12/site-packages (from httpx>=0.28.1->llama-index-readers-web) (4.9.0)\r\n",
      "Requirement already satisfied: certifi in /home/evanerwee/Prod/graphrag-toolkit/.venv/lib/python3.12/site-packages (from httpx>=0.28.1->llama-index-readers-web) (2025.4.26)\r\n",
      "Requirement already satisfied: httpcore==1.* in /home/evanerwee/Prod/graphrag-toolkit/.venv/lib/python3.12/site-packages (from httpx>=0.28.1->llama-index-readers-web) (1.0.9)\r\n",
      "Requirement already satisfied: idna in /home/evanerwee/Prod/graphrag-toolkit/.venv/lib/python3.12/site-packages (from httpx>=0.28.1->llama-index-readers-web) (3.10)\r\n",
      "Requirement already satisfied: h11>=0.16 in /home/evanerwee/Prod/graphrag-toolkit/.venv/lib/python3.12/site-packages (from httpcore==1.*->httpx>=0.28.1->llama-index-readers-web) (0.16.0)\r\n",
      "Requirement already satisfied: aiosqlite in /home/evanerwee/Prod/graphrag-toolkit/.venv/lib/python3.12/site-packages (from llama-index-core<0.13,>=0.12.0->llama-index-readers-web) (0.21.0)\r\n",
      "Requirement already satisfied: banks<3,>=2.0.0 in /home/evanerwee/Prod/graphrag-toolkit/.venv/lib/python3.12/site-packages (from llama-index-core<0.13,>=0.12.0->llama-index-readers-web) (2.1.2)\r\n",
      "Requirement already satisfied: dataclasses-json in /home/evanerwee/Prod/graphrag-toolkit/.venv/lib/python3.12/site-packages (from llama-index-core<0.13,>=0.12.0->llama-index-readers-web) (0.6.7)\r\n",
      "Requirement already satisfied: deprecated>=1.2.9.3 in /home/evanerwee/Prod/graphrag-toolkit/.venv/lib/python3.12/site-packages (from llama-index-core<0.13,>=0.12.0->llama-index-readers-web) (1.2.18)\r\n",
      "Requirement already satisfied: dirtyjson<2,>=1.0.8 in /home/evanerwee/Prod/graphrag-toolkit/.venv/lib/python3.12/site-packages (from llama-index-core<0.13,>=0.12.0->llama-index-readers-web) (1.0.8)\r\n",
      "Requirement already satisfied: filetype<2,>=1.2.0 in /home/evanerwee/Prod/graphrag-toolkit/.venv/lib/python3.12/site-packages (from llama-index-core<0.13,>=0.12.0->llama-index-readers-web) (1.2.0)\r\n",
      "Requirement already satisfied: fsspec>=2023.5.0 in /home/evanerwee/Prod/graphrag-toolkit/.venv/lib/python3.12/site-packages (from llama-index-core<0.13,>=0.12.0->llama-index-readers-web) (2025.3.0)\r\n",
      "Requirement already satisfied: nest-asyncio<2,>=1.5.8 in /home/evanerwee/Prod/graphrag-toolkit/.venv/lib/python3.12/site-packages (from llama-index-core<0.13,>=0.12.0->llama-index-readers-web) (1.6.0)\r\n",
      "Requirement already satisfied: networkx>=3.0 in /home/evanerwee/Prod/graphrag-toolkit/.venv/lib/python3.12/site-packages (from llama-index-core<0.13,>=0.12.0->llama-index-readers-web) (3.4.2)\r\n",
      "Requirement already satisfied: nltk>3.8.1 in /home/evanerwee/Prod/graphrag-toolkit/.venv/lib/python3.12/site-packages (from llama-index-core<0.13,>=0.12.0->llama-index-readers-web) (3.9.1)\r\n",
      "Requirement already satisfied: numpy in /home/evanerwee/Prod/graphrag-toolkit/.venv/lib/python3.12/site-packages (from llama-index-core<0.13,>=0.12.0->llama-index-readers-web) (1.26.4)\r\n",
      "Requirement already satisfied: pillow>=9.0.0 in /home/evanerwee/Prod/graphrag-toolkit/.venv/lib/python3.12/site-packages (from llama-index-core<0.13,>=0.12.0->llama-index-readers-web) (11.2.1)\r\n",
      "Requirement already satisfied: pydantic>=2.8.0 in /home/evanerwee/Prod/graphrag-toolkit/.venv/lib/python3.12/site-packages (from llama-index-core<0.13,>=0.12.0->llama-index-readers-web) (2.11.5)\r\n",
      "Requirement already satisfied: pyyaml>=6.0.1 in /home/evanerwee/Prod/graphrag-toolkit/.venv/lib/python3.12/site-packages (from llama-index-core<0.13,>=0.12.0->llama-index-readers-web) (6.0.2)\r\n",
      "Requirement already satisfied: sqlalchemy>=1.4.49 in /home/evanerwee/Prod/graphrag-toolkit/.venv/lib/python3.12/site-packages (from sqlalchemy[asyncio]>=1.4.49->llama-index-core<0.13,>=0.12.0->llama-index-readers-web) (2.0.41)\r\n",
      "Requirement already satisfied: tenacity!=8.4.0,<10.0.0,>=8.2.0 in /home/evanerwee/Prod/graphrag-toolkit/.venv/lib/python3.12/site-packages (from llama-index-core<0.13,>=0.12.0->llama-index-readers-web) (9.1.2)\r\n",
      "Requirement already satisfied: tiktoken>=0.7.0 in /home/evanerwee/Prod/graphrag-toolkit/.venv/lib/python3.12/site-packages (from llama-index-core<0.13,>=0.12.0->llama-index-readers-web) (0.9.0)\r\n",
      "Requirement already satisfied: tqdm<5,>=4.66.1 in /home/evanerwee/Prod/graphrag-toolkit/.venv/lib/python3.12/site-packages (from llama-index-core<0.13,>=0.12.0->llama-index-readers-web) (4.67.1)\r\n",
      "Requirement already satisfied: typing-inspect>=0.8.0 in /home/evanerwee/Prod/graphrag-toolkit/.venv/lib/python3.12/site-packages (from llama-index-core<0.13,>=0.12.0->llama-index-readers-web) (0.9.0)\r\n",
      "Requirement already satisfied: wrapt in /home/evanerwee/Prod/graphrag-toolkit/.venv/lib/python3.12/site-packages (from llama-index-core<0.13,>=0.12.0->llama-index-readers-web) (1.17.2)\r\n",
      "Requirement already satisfied: six<2,>=1.15 in /home/evanerwee/Prod/graphrag-toolkit/.venv/lib/python3.12/site-packages (from markdownify>=1.1.0->llama-index-readers-web) (1.17.0)\r\n",
      "Requirement already satisfied: cssselect>=0.9.2 in /home/evanerwee/Prod/graphrag-toolkit/.venv/lib/python3.12/site-packages (from newspaper3k<0.3,>=0.2.8->llama-index-readers-web) (1.3.0)\r\n",
      "Requirement already satisfied: feedparser>=5.2.1 in /home/evanerwee/Prod/graphrag-toolkit/.venv/lib/python3.12/site-packages (from newspaper3k<0.3,>=0.2.8->llama-index-readers-web) (6.0.11)\r\n",
      "Requirement already satisfied: tldextract>=2.0.1 in /home/evanerwee/Prod/graphrag-toolkit/.venv/lib/python3.12/site-packages (from newspaper3k<0.3,>=0.2.8->llama-index-readers-web) (5.3.0)\r\n",
      "Requirement already satisfied: feedfinder2>=0.0.4 in /home/evanerwee/Prod/graphrag-toolkit/.venv/lib/python3.12/site-packages (from newspaper3k<0.3,>=0.2.8->llama-index-readers-web) (0.0.4)\r\n",
      "Requirement already satisfied: jieba3k>=0.35.1 in /home/evanerwee/Prod/graphrag-toolkit/.venv/lib/python3.12/site-packages (from newspaper3k<0.3,>=0.2.8->llama-index-readers-web) (0.35.1)\r\n",
      "Requirement already satisfied: python-dateutil>=2.5.3 in /home/evanerwee/Prod/graphrag-toolkit/.venv/lib/python3.12/site-packages (from newspaper3k<0.3,>=0.2.8->llama-index-readers-web) (2.9.0.post0)\r\n",
      "Requirement already satisfied: tinysegmenter==0.3 in /home/evanerwee/Prod/graphrag-toolkit/.venv/lib/python3.12/site-packages (from newspaper3k<0.3,>=0.2.8->llama-index-readers-web) (0.3)\r\n",
      "Requirement already satisfied: pyee<14,>=13 in /home/evanerwee/Prod/graphrag-toolkit/.venv/lib/python3.12/site-packages (from playwright<2.0,>=1.30->llama-index-readers-web) (13.0.0)\r\n",
      "Requirement already satisfied: greenlet<4.0.0,>=3.1.1 in /home/evanerwee/Prod/graphrag-toolkit/.venv/lib/python3.12/site-packages (from playwright<2.0,>=1.30->llama-index-readers-web) (3.2.2)\r\n",
      "Requirement already satisfied: charset-normalizer<4,>=2 in /home/evanerwee/Prod/graphrag-toolkit/.venv/lib/python3.12/site-packages (from requests<3,>=2.31.0->llama-index-readers-web) (3.4.2)\r\n",
      "Requirement already satisfied: trio~=0.30.0 in /home/evanerwee/Prod/graphrag-toolkit/.venv/lib/python3.12/site-packages (from selenium<5,>=4.17.2->llama-index-readers-web) (0.30.0)\r\n",
      "Requirement already satisfied: trio-websocket~=0.12.2 in /home/evanerwee/Prod/graphrag-toolkit/.venv/lib/python3.12/site-packages (from selenium<5,>=4.17.2->llama-index-readers-web) (0.12.2)\r\n",
      "Requirement already satisfied: websocket-client~=1.8.0 in /home/evanerwee/Prod/graphrag-toolkit/.venv/lib/python3.12/site-packages (from selenium<5,>=4.17.2->llama-index-readers-web) (1.8.0)\r\n",
      "Requirement already satisfied: griffe in /home/evanerwee/Prod/graphrag-toolkit/.venv/lib/python3.12/site-packages (from banks<3,>=2.0.0->llama-index-core<0.13,>=0.12.0->llama-index-readers-web) (1.7.3)\r\n",
      "Requirement already satisfied: jinja2 in /home/evanerwee/Prod/graphrag-toolkit/.venv/lib/python3.12/site-packages (from banks<3,>=2.0.0->llama-index-core<0.13,>=0.12.0->llama-index-readers-web) (3.1.6)\r\n",
      "Requirement already satisfied: platformdirs in /home/evanerwee/Prod/graphrag-toolkit/.venv/lib/python3.12/site-packages (from banks<3,>=2.0.0->llama-index-core<0.13,>=0.12.0->llama-index-readers-web) (4.3.8)\r\n",
      "Requirement already satisfied: sgmllib3k in /home/evanerwee/Prod/graphrag-toolkit/.venv/lib/python3.12/site-packages (from feedparser>=5.2.1->newspaper3k<0.3,>=0.2.8->llama-index-readers-web) (1.0.0)\r\n",
      "Requirement already satisfied: click in /home/evanerwee/Prod/graphrag-toolkit/.venv/lib/python3.12/site-packages (from nltk>3.8.1->llama-index-core<0.13,>=0.12.0->llama-index-readers-web) (8.2.1)\r\n",
      "Requirement already satisfied: joblib in /home/evanerwee/Prod/graphrag-toolkit/.venv/lib/python3.12/site-packages (from nltk>3.8.1->llama-index-core<0.13,>=0.12.0->llama-index-readers-web) (1.5.1)\r\n",
      "Requirement already satisfied: regex>=2021.8.3 in /home/evanerwee/Prod/graphrag-toolkit/.venv/lib/python3.12/site-packages (from nltk>3.8.1->llama-index-core<0.13,>=0.12.0->llama-index-readers-web) (2024.11.6)\r\n",
      "Requirement already satisfied: annotated-types>=0.6.0 in /home/evanerwee/Prod/graphrag-toolkit/.venv/lib/python3.12/site-packages (from pydantic>=2.8.0->llama-index-core<0.13,>=0.12.0->llama-index-readers-web) (0.7.0)\r\n",
      "Requirement already satisfied: pydantic-core==2.33.2 in /home/evanerwee/Prod/graphrag-toolkit/.venv/lib/python3.12/site-packages (from pydantic>=2.8.0->llama-index-core<0.13,>=0.12.0->llama-index-readers-web) (2.33.2)\r\n",
      "Requirement already satisfied: typing-inspection>=0.4.0 in /home/evanerwee/Prod/graphrag-toolkit/.venv/lib/python3.12/site-packages (from pydantic>=2.8.0->llama-index-core<0.13,>=0.12.0->llama-index-readers-web) (0.4.1)\r\n",
      "Requirement already satisfied: requests-file>=1.4 in /home/evanerwee/Prod/graphrag-toolkit/.venv/lib/python3.12/site-packages (from tldextract>=2.0.1->newspaper3k<0.3,>=0.2.8->llama-index-readers-web) (2.1.0)\r\n",
      "Requirement already satisfied: filelock>=3.0.8 in /home/evanerwee/Prod/graphrag-toolkit/.venv/lib/python3.12/site-packages (from tldextract>=2.0.1->newspaper3k<0.3,>=0.2.8->llama-index-readers-web) (3.18.0)\r\n",
      "Requirement already satisfied: sortedcontainers in /home/evanerwee/Prod/graphrag-toolkit/.venv/lib/python3.12/site-packages (from trio~=0.30.0->selenium<5,>=4.17.2->llama-index-readers-web) (2.4.0)\r\n",
      "Requirement already satisfied: outcome in /home/evanerwee/Prod/graphrag-toolkit/.venv/lib/python3.12/site-packages (from trio~=0.30.0->selenium<5,>=4.17.2->llama-index-readers-web) (1.3.0.post0)\r\n",
      "Requirement already satisfied: sniffio>=1.3.0 in /home/evanerwee/Prod/graphrag-toolkit/.venv/lib/python3.12/site-packages (from trio~=0.30.0->selenium<5,>=4.17.2->llama-index-readers-web) (1.3.1)\r\n",
      "Requirement already satisfied: wsproto>=0.14 in /home/evanerwee/Prod/graphrag-toolkit/.venv/lib/python3.12/site-packages (from trio-websocket~=0.12.2->selenium<5,>=4.17.2->llama-index-readers-web) (1.2.0)\r\n",
      "Requirement already satisfied: mypy-extensions>=0.3.0 in /home/evanerwee/Prod/graphrag-toolkit/.venv/lib/python3.12/site-packages (from typing-inspect>=0.8.0->llama-index-core<0.13,>=0.12.0->llama-index-readers-web) (1.1.0)\r\n",
      "Requirement already satisfied: pysocks!=1.5.7,<2.0,>=1.5.6 in /home/evanerwee/Prod/graphrag-toolkit/.venv/lib/python3.12/site-packages (from urllib3[socks]~=2.4.0->selenium<5,>=4.17.2->llama-index-readers-web) (1.7.1)\r\n",
      "Requirement already satisfied: marshmallow<4.0.0,>=3.18.0 in /home/evanerwee/Prod/graphrag-toolkit/.venv/lib/python3.12/site-packages (from dataclasses-json->llama-index-core<0.13,>=0.12.0->llama-index-readers-web) (3.26.1)\r\n",
      "Requirement already satisfied: colorama>=0.4 in /home/evanerwee/Prod/graphrag-toolkit/.venv/lib/python3.12/site-packages (from griffe->banks<3,>=2.0.0->llama-index-core<0.13,>=0.12.0->llama-index-readers-web) (0.4.6)\r\n",
      "Requirement already satisfied: MarkupSafe>=2.0 in /home/evanerwee/Prod/graphrag-toolkit/.venv/lib/python3.12/site-packages (from jinja2->banks<3,>=2.0.0->llama-index-core<0.13,>=0.12.0->llama-index-readers-web) (3.0.2)\r\n",
      "\r\n",
      "\u001B[1m[\u001B[0m\u001B[34;49mnotice\u001B[0m\u001B[1;39;49m]\u001B[0m\u001B[39;49m A new release of pip is available: \u001B[0m\u001B[31;49m25.0.1\u001B[0m\u001B[39;49m -> \u001B[0m\u001B[32;49m25.1.1\u001B[0m\r\n",
      "\u001B[1m[\u001B[0m\u001B[34;49mnotice\u001B[0m\u001B[1;39;49m]\u001B[0m\u001B[39;49m To update, run: \u001B[0m\u001B[32;49mpip install --upgrade pip\u001B[0m\r\n"
     ]
    }
   ],
   "execution_count": 11
  },
  {
   "cell_type": "markdown",
   "id": "5a46d96e",
   "metadata": {},
   "source": [
    "### Rerankers"
   ]
  },
  {
   "cell_type": "markdown",
   "id": "4cb92c81",
   "metadata": {},
   "source": [
    "If you intend to use the `SentenceReranker` with the `TraversalBasedRetriever` (see the details [here](https://github.com/awslabs/graphrag-toolkit/blob/main/docs/lexical-graph/querying.md#statement-reranking)), install the following dependencies: "
   ]
  },
  {
   "cell_type": "code",
   "id": "a704c21d",
   "metadata": {
    "ExecuteTime": {
     "end_time": "2025-05-29T15:50:25.249415Z",
     "start_time": "2025-05-29T15:50:24.736446Z"
    }
   },
   "source": [
    "!pip install torch sentence_transformers"
   ],
   "outputs": [
    {
     "name": "stdout",
     "output_type": "stream",
     "text": [
      "Requirement already satisfied: torch in /home/evanerwee/Prod/graphrag-toolkit/.venv/lib/python3.12/site-packages (2.7.0)\r\n",
      "Requirement already satisfied: sentence_transformers in /home/evanerwee/Prod/graphrag-toolkit/.venv/lib/python3.12/site-packages (4.1.0)\r\n",
      "Requirement already satisfied: filelock in /home/evanerwee/Prod/graphrag-toolkit/.venv/lib/python3.12/site-packages (from torch) (3.18.0)\r\n",
      "Requirement already satisfied: typing-extensions>=4.10.0 in /home/evanerwee/Prod/graphrag-toolkit/.venv/lib/python3.12/site-packages (from torch) (4.13.2)\r\n",
      "Requirement already satisfied: setuptools in /home/evanerwee/Prod/graphrag-toolkit/.venv/lib/python3.12/site-packages (from torch) (80.9.0)\r\n",
      "Requirement already satisfied: sympy>=1.13.3 in /home/evanerwee/Prod/graphrag-toolkit/.venv/lib/python3.12/site-packages (from torch) (1.14.0)\r\n",
      "Requirement already satisfied: networkx in /home/evanerwee/Prod/graphrag-toolkit/.venv/lib/python3.12/site-packages (from torch) (3.4.2)\r\n",
      "Requirement already satisfied: jinja2 in /home/evanerwee/Prod/graphrag-toolkit/.venv/lib/python3.12/site-packages (from torch) (3.1.6)\r\n",
      "Requirement already satisfied: fsspec in /home/evanerwee/Prod/graphrag-toolkit/.venv/lib/python3.12/site-packages (from torch) (2025.3.0)\r\n",
      "Requirement already satisfied: nvidia-cuda-nvrtc-cu12==12.6.77 in /home/evanerwee/Prod/graphrag-toolkit/.venv/lib/python3.12/site-packages (from torch) (12.6.77)\r\n",
      "Requirement already satisfied: nvidia-cuda-runtime-cu12==12.6.77 in /home/evanerwee/Prod/graphrag-toolkit/.venv/lib/python3.12/site-packages (from torch) (12.6.77)\r\n",
      "Requirement already satisfied: nvidia-cuda-cupti-cu12==12.6.80 in /home/evanerwee/Prod/graphrag-toolkit/.venv/lib/python3.12/site-packages (from torch) (12.6.80)\r\n",
      "Requirement already satisfied: nvidia-cudnn-cu12==9.5.1.17 in /home/evanerwee/Prod/graphrag-toolkit/.venv/lib/python3.12/site-packages (from torch) (9.5.1.17)\r\n",
      "Requirement already satisfied: nvidia-cublas-cu12==12.6.4.1 in /home/evanerwee/Prod/graphrag-toolkit/.venv/lib/python3.12/site-packages (from torch) (12.6.4.1)\r\n",
      "Requirement already satisfied: nvidia-cufft-cu12==11.3.0.4 in /home/evanerwee/Prod/graphrag-toolkit/.venv/lib/python3.12/site-packages (from torch) (11.3.0.4)\r\n",
      "Requirement already satisfied: nvidia-curand-cu12==10.3.7.77 in /home/evanerwee/Prod/graphrag-toolkit/.venv/lib/python3.12/site-packages (from torch) (10.3.7.77)\r\n",
      "Requirement already satisfied: nvidia-cusolver-cu12==11.7.1.2 in /home/evanerwee/Prod/graphrag-toolkit/.venv/lib/python3.12/site-packages (from torch) (11.7.1.2)\r\n",
      "Requirement already satisfied: nvidia-cusparse-cu12==12.5.4.2 in /home/evanerwee/Prod/graphrag-toolkit/.venv/lib/python3.12/site-packages (from torch) (12.5.4.2)\r\n",
      "Requirement already satisfied: nvidia-cusparselt-cu12==0.6.3 in /home/evanerwee/Prod/graphrag-toolkit/.venv/lib/python3.12/site-packages (from torch) (0.6.3)\r\n",
      "Requirement already satisfied: nvidia-nccl-cu12==2.26.2 in /home/evanerwee/Prod/graphrag-toolkit/.venv/lib/python3.12/site-packages (from torch) (2.26.2)\r\n",
      "Requirement already satisfied: nvidia-nvtx-cu12==12.6.77 in /home/evanerwee/Prod/graphrag-toolkit/.venv/lib/python3.12/site-packages (from torch) (12.6.77)\r\n",
      "Requirement already satisfied: nvidia-nvjitlink-cu12==12.6.85 in /home/evanerwee/Prod/graphrag-toolkit/.venv/lib/python3.12/site-packages (from torch) (12.6.85)\r\n",
      "Requirement already satisfied: nvidia-cufile-cu12==1.11.1.6 in /home/evanerwee/Prod/graphrag-toolkit/.venv/lib/python3.12/site-packages (from torch) (1.11.1.6)\r\n",
      "Requirement already satisfied: triton==3.3.0 in /home/evanerwee/Prod/graphrag-toolkit/.venv/lib/python3.12/site-packages (from torch) (3.3.0)\r\n",
      "Requirement already satisfied: transformers<5.0.0,>=4.41.0 in /home/evanerwee/Prod/graphrag-toolkit/.venv/lib/python3.12/site-packages (from sentence_transformers) (4.52.3)\r\n",
      "Requirement already satisfied: tqdm in /home/evanerwee/Prod/graphrag-toolkit/.venv/lib/python3.12/site-packages (from sentence_transformers) (4.67.1)\r\n",
      "Requirement already satisfied: scikit-learn in /home/evanerwee/Prod/graphrag-toolkit/.venv/lib/python3.12/site-packages (from sentence_transformers) (1.6.1)\r\n",
      "Requirement already satisfied: scipy in /home/evanerwee/Prod/graphrag-toolkit/.venv/lib/python3.12/site-packages (from sentence_transformers) (1.15.3)\r\n",
      "Requirement already satisfied: huggingface-hub>=0.20.0 in /home/evanerwee/Prod/graphrag-toolkit/.venv/lib/python3.12/site-packages (from sentence_transformers) (0.32.2)\r\n",
      "Requirement already satisfied: Pillow in /home/evanerwee/Prod/graphrag-toolkit/.venv/lib/python3.12/site-packages (from sentence_transformers) (11.2.1)\r\n",
      "Requirement already satisfied: packaging>=20.9 in /home/evanerwee/Prod/graphrag-toolkit/.venv/lib/python3.12/site-packages (from huggingface-hub>=0.20.0->sentence_transformers) (25.0)\r\n",
      "Requirement already satisfied: pyyaml>=5.1 in /home/evanerwee/Prod/graphrag-toolkit/.venv/lib/python3.12/site-packages (from huggingface-hub>=0.20.0->sentence_transformers) (6.0.2)\r\n",
      "Requirement already satisfied: requests in /home/evanerwee/Prod/graphrag-toolkit/.venv/lib/python3.12/site-packages (from huggingface-hub>=0.20.0->sentence_transformers) (2.32.3)\r\n",
      "Requirement already satisfied: hf-xet<2.0.0,>=1.1.2 in /home/evanerwee/Prod/graphrag-toolkit/.venv/lib/python3.12/site-packages (from huggingface-hub>=0.20.0->sentence_transformers) (1.1.2)\r\n",
      "Requirement already satisfied: mpmath<1.4,>=1.1.0 in /home/evanerwee/Prod/graphrag-toolkit/.venv/lib/python3.12/site-packages (from sympy>=1.13.3->torch) (1.3.0)\r\n",
      "Requirement already satisfied: numpy>=1.17 in /home/evanerwee/Prod/graphrag-toolkit/.venv/lib/python3.12/site-packages (from transformers<5.0.0,>=4.41.0->sentence_transformers) (1.26.4)\r\n",
      "Requirement already satisfied: regex!=2019.12.17 in /home/evanerwee/Prod/graphrag-toolkit/.venv/lib/python3.12/site-packages (from transformers<5.0.0,>=4.41.0->sentence_transformers) (2024.11.6)\r\n",
      "Requirement already satisfied: tokenizers<0.22,>=0.21 in /home/evanerwee/Prod/graphrag-toolkit/.venv/lib/python3.12/site-packages (from transformers<5.0.0,>=4.41.0->sentence_transformers) (0.21.1)\r\n",
      "Requirement already satisfied: safetensors>=0.4.3 in /home/evanerwee/Prod/graphrag-toolkit/.venv/lib/python3.12/site-packages (from transformers<5.0.0,>=4.41.0->sentence_transformers) (0.5.3)\r\n",
      "Requirement already satisfied: MarkupSafe>=2.0 in /home/evanerwee/Prod/graphrag-toolkit/.venv/lib/python3.12/site-packages (from jinja2->torch) (3.0.2)\r\n",
      "Requirement already satisfied: joblib>=1.2.0 in /home/evanerwee/Prod/graphrag-toolkit/.venv/lib/python3.12/site-packages (from scikit-learn->sentence_transformers) (1.5.1)\r\n",
      "Requirement already satisfied: threadpoolctl>=3.1.0 in /home/evanerwee/Prod/graphrag-toolkit/.venv/lib/python3.12/site-packages (from scikit-learn->sentence_transformers) (3.6.0)\r\n",
      "Requirement already satisfied: charset-normalizer<4,>=2 in /home/evanerwee/Prod/graphrag-toolkit/.venv/lib/python3.12/site-packages (from requests->huggingface-hub>=0.20.0->sentence_transformers) (3.4.2)\r\n",
      "Requirement already satisfied: idna<4,>=2.5 in /home/evanerwee/Prod/graphrag-toolkit/.venv/lib/python3.12/site-packages (from requests->huggingface-hub>=0.20.0->sentence_transformers) (3.10)\r\n",
      "Requirement already satisfied: urllib3<3,>=1.21.1 in /home/evanerwee/Prod/graphrag-toolkit/.venv/lib/python3.12/site-packages (from requests->huggingface-hub>=0.20.0->sentence_transformers) (2.4.0)\r\n",
      "Requirement already satisfied: certifi>=2017.4.17 in /home/evanerwee/Prod/graphrag-toolkit/.venv/lib/python3.12/site-packages (from requests->huggingface-hub>=0.20.0->sentence_transformers) (2025.4.26)\r\n",
      "\r\n",
      "\u001B[1m[\u001B[0m\u001B[34;49mnotice\u001B[0m\u001B[1;39;49m]\u001B[0m\u001B[39;49m A new release of pip is available: \u001B[0m\u001B[31;49m25.0.1\u001B[0m\u001B[39;49m -> \u001B[0m\u001B[32;49m25.1.1\u001B[0m\r\n",
      "\u001B[1m[\u001B[0m\u001B[34;49mnotice\u001B[0m\u001B[1;39;49m]\u001B[0m\u001B[39;49m To update, run: \u001B[0m\u001B[32;49mpip install --upgrade pip\u001B[0m\r\n"
     ]
    }
   ],
   "execution_count": 12
  },
  {
   "cell_type": "markdown",
   "id": "8e89630b",
   "metadata": {},
   "source": [
    "If you intend to use the `BGEReranker` with a GPU machine (see the details [here](https://github.com/awslabs/graphrag-toolkit/blob/main/docs/lexical-graph/querying.md#semanticguidedretriever-with-a-reranking-beam-search)), install the following dependencies: "
   ]
  },
  {
   "cell_type": "code",
   "id": "67f7d824",
   "metadata": {
    "ExecuteTime": {
     "end_time": "2025-05-29T15:50:25.795888Z",
     "start_time": "2025-05-29T15:50:25.255656Z"
    }
   },
   "source": [
    "!pip install torch FlagEmbedding"
   ],
   "outputs": [
    {
     "name": "stdout",
     "output_type": "stream",
     "text": [
      "Requirement already satisfied: torch in /home/evanerwee/Prod/graphrag-toolkit/.venv/lib/python3.12/site-packages (2.7.0)\r\n",
      "Requirement already satisfied: FlagEmbedding in /home/evanerwee/Prod/graphrag-toolkit/.venv/lib/python3.12/site-packages (1.3.5)\r\n",
      "Requirement already satisfied: filelock in /home/evanerwee/Prod/graphrag-toolkit/.venv/lib/python3.12/site-packages (from torch) (3.18.0)\r\n",
      "Requirement already satisfied: typing-extensions>=4.10.0 in /home/evanerwee/Prod/graphrag-toolkit/.venv/lib/python3.12/site-packages (from torch) (4.13.2)\r\n",
      "Requirement already satisfied: setuptools in /home/evanerwee/Prod/graphrag-toolkit/.venv/lib/python3.12/site-packages (from torch) (80.9.0)\r\n",
      "Requirement already satisfied: sympy>=1.13.3 in /home/evanerwee/Prod/graphrag-toolkit/.venv/lib/python3.12/site-packages (from torch) (1.14.0)\r\n",
      "Requirement already satisfied: networkx in /home/evanerwee/Prod/graphrag-toolkit/.venv/lib/python3.12/site-packages (from torch) (3.4.2)\r\n",
      "Requirement already satisfied: jinja2 in /home/evanerwee/Prod/graphrag-toolkit/.venv/lib/python3.12/site-packages (from torch) (3.1.6)\r\n",
      "Requirement already satisfied: fsspec in /home/evanerwee/Prod/graphrag-toolkit/.venv/lib/python3.12/site-packages (from torch) (2025.3.0)\r\n",
      "Requirement already satisfied: nvidia-cuda-nvrtc-cu12==12.6.77 in /home/evanerwee/Prod/graphrag-toolkit/.venv/lib/python3.12/site-packages (from torch) (12.6.77)\r\n",
      "Requirement already satisfied: nvidia-cuda-runtime-cu12==12.6.77 in /home/evanerwee/Prod/graphrag-toolkit/.venv/lib/python3.12/site-packages (from torch) (12.6.77)\r\n",
      "Requirement already satisfied: nvidia-cuda-cupti-cu12==12.6.80 in /home/evanerwee/Prod/graphrag-toolkit/.venv/lib/python3.12/site-packages (from torch) (12.6.80)\r\n",
      "Requirement already satisfied: nvidia-cudnn-cu12==9.5.1.17 in /home/evanerwee/Prod/graphrag-toolkit/.venv/lib/python3.12/site-packages (from torch) (9.5.1.17)\r\n",
      "Requirement already satisfied: nvidia-cublas-cu12==12.6.4.1 in /home/evanerwee/Prod/graphrag-toolkit/.venv/lib/python3.12/site-packages (from torch) (12.6.4.1)\r\n",
      "Requirement already satisfied: nvidia-cufft-cu12==11.3.0.4 in /home/evanerwee/Prod/graphrag-toolkit/.venv/lib/python3.12/site-packages (from torch) (11.3.0.4)\r\n",
      "Requirement already satisfied: nvidia-curand-cu12==10.3.7.77 in /home/evanerwee/Prod/graphrag-toolkit/.venv/lib/python3.12/site-packages (from torch) (10.3.7.77)\r\n",
      "Requirement already satisfied: nvidia-cusolver-cu12==11.7.1.2 in /home/evanerwee/Prod/graphrag-toolkit/.venv/lib/python3.12/site-packages (from torch) (11.7.1.2)\r\n",
      "Requirement already satisfied: nvidia-cusparse-cu12==12.5.4.2 in /home/evanerwee/Prod/graphrag-toolkit/.venv/lib/python3.12/site-packages (from torch) (12.5.4.2)\r\n",
      "Requirement already satisfied: nvidia-cusparselt-cu12==0.6.3 in /home/evanerwee/Prod/graphrag-toolkit/.venv/lib/python3.12/site-packages (from torch) (0.6.3)\r\n",
      "Requirement already satisfied: nvidia-nccl-cu12==2.26.2 in /home/evanerwee/Prod/graphrag-toolkit/.venv/lib/python3.12/site-packages (from torch) (2.26.2)\r\n",
      "Requirement already satisfied: nvidia-nvtx-cu12==12.6.77 in /home/evanerwee/Prod/graphrag-toolkit/.venv/lib/python3.12/site-packages (from torch) (12.6.77)\r\n",
      "Requirement already satisfied: nvidia-nvjitlink-cu12==12.6.85 in /home/evanerwee/Prod/graphrag-toolkit/.venv/lib/python3.12/site-packages (from torch) (12.6.85)\r\n",
      "Requirement already satisfied: nvidia-cufile-cu12==1.11.1.6 in /home/evanerwee/Prod/graphrag-toolkit/.venv/lib/python3.12/site-packages (from torch) (1.11.1.6)\r\n",
      "Requirement already satisfied: triton==3.3.0 in /home/evanerwee/Prod/graphrag-toolkit/.venv/lib/python3.12/site-packages (from torch) (3.3.0)\r\n",
      "Requirement already satisfied: transformers>=4.44.2 in /home/evanerwee/Prod/graphrag-toolkit/.venv/lib/python3.12/site-packages (from FlagEmbedding) (4.52.3)\r\n",
      "Requirement already satisfied: datasets>=2.19.0 in /home/evanerwee/Prod/graphrag-toolkit/.venv/lib/python3.12/site-packages (from FlagEmbedding) (3.6.0)\r\n",
      "Requirement already satisfied: accelerate>=0.20.1 in /home/evanerwee/Prod/graphrag-toolkit/.venv/lib/python3.12/site-packages (from FlagEmbedding) (1.7.0)\r\n",
      "Requirement already satisfied: sentence_transformers in /home/evanerwee/Prod/graphrag-toolkit/.venv/lib/python3.12/site-packages (from FlagEmbedding) (4.1.0)\r\n",
      "Requirement already satisfied: peft in /home/evanerwee/Prod/graphrag-toolkit/.venv/lib/python3.12/site-packages (from FlagEmbedding) (0.15.2)\r\n",
      "Requirement already satisfied: ir-datasets in /home/evanerwee/Prod/graphrag-toolkit/.venv/lib/python3.12/site-packages (from FlagEmbedding) (0.5.10)\r\n",
      "Requirement already satisfied: sentencepiece in /home/evanerwee/Prod/graphrag-toolkit/.venv/lib/python3.12/site-packages (from FlagEmbedding) (0.2.0)\r\n",
      "Requirement already satisfied: protobuf in /home/evanerwee/Prod/graphrag-toolkit/.venv/lib/python3.12/site-packages (from FlagEmbedding) (6.31.1)\r\n",
      "Requirement already satisfied: numpy<3.0.0,>=1.17 in /home/evanerwee/Prod/graphrag-toolkit/.venv/lib/python3.12/site-packages (from accelerate>=0.20.1->FlagEmbedding) (1.26.4)\r\n",
      "Requirement already satisfied: packaging>=20.0 in /home/evanerwee/Prod/graphrag-toolkit/.venv/lib/python3.12/site-packages (from accelerate>=0.20.1->FlagEmbedding) (25.0)\r\n",
      "Requirement already satisfied: psutil in /home/evanerwee/Prod/graphrag-toolkit/.venv/lib/python3.12/site-packages (from accelerate>=0.20.1->FlagEmbedding) (7.0.0)\r\n",
      "Requirement already satisfied: pyyaml in /home/evanerwee/Prod/graphrag-toolkit/.venv/lib/python3.12/site-packages (from accelerate>=0.20.1->FlagEmbedding) (6.0.2)\r\n",
      "Requirement already satisfied: huggingface-hub>=0.21.0 in /home/evanerwee/Prod/graphrag-toolkit/.venv/lib/python3.12/site-packages (from accelerate>=0.20.1->FlagEmbedding) (0.32.2)\r\n",
      "Requirement already satisfied: safetensors>=0.4.3 in /home/evanerwee/Prod/graphrag-toolkit/.venv/lib/python3.12/site-packages (from accelerate>=0.20.1->FlagEmbedding) (0.5.3)\r\n",
      "Requirement already satisfied: pyarrow>=15.0.0 in /home/evanerwee/Prod/graphrag-toolkit/.venv/lib/python3.12/site-packages (from datasets>=2.19.0->FlagEmbedding) (20.0.0)\r\n",
      "Requirement already satisfied: dill<0.3.9,>=0.3.0 in /home/evanerwee/Prod/graphrag-toolkit/.venv/lib/python3.12/site-packages (from datasets>=2.19.0->FlagEmbedding) (0.3.8)\r\n",
      "Requirement already satisfied: pandas in /home/evanerwee/Prod/graphrag-toolkit/.venv/lib/python3.12/site-packages (from datasets>=2.19.0->FlagEmbedding) (2.2.3)\r\n",
      "Requirement already satisfied: requests>=2.32.2 in /home/evanerwee/Prod/graphrag-toolkit/.venv/lib/python3.12/site-packages (from datasets>=2.19.0->FlagEmbedding) (2.32.3)\r\n",
      "Requirement already satisfied: tqdm>=4.66.3 in /home/evanerwee/Prod/graphrag-toolkit/.venv/lib/python3.12/site-packages (from datasets>=2.19.0->FlagEmbedding) (4.67.1)\r\n",
      "Requirement already satisfied: xxhash in /home/evanerwee/Prod/graphrag-toolkit/.venv/lib/python3.12/site-packages (from datasets>=2.19.0->FlagEmbedding) (3.5.0)\r\n",
      "Requirement already satisfied: multiprocess<0.70.17 in /home/evanerwee/Prod/graphrag-toolkit/.venv/lib/python3.12/site-packages (from datasets>=2.19.0->FlagEmbedding) (0.70.16)\r\n",
      "Requirement already satisfied: mpmath<1.4,>=1.1.0 in /home/evanerwee/Prod/graphrag-toolkit/.venv/lib/python3.12/site-packages (from sympy>=1.13.3->torch) (1.3.0)\r\n",
      "Requirement already satisfied: regex!=2019.12.17 in /home/evanerwee/Prod/graphrag-toolkit/.venv/lib/python3.12/site-packages (from transformers>=4.44.2->FlagEmbedding) (2024.11.6)\r\n",
      "Requirement already satisfied: tokenizers<0.22,>=0.21 in /home/evanerwee/Prod/graphrag-toolkit/.venv/lib/python3.12/site-packages (from transformers>=4.44.2->FlagEmbedding) (0.21.1)\r\n",
      "Requirement already satisfied: beautifulsoup4>=4.4.1 in /home/evanerwee/Prod/graphrag-toolkit/.venv/lib/python3.12/site-packages (from ir-datasets->FlagEmbedding) (4.13.4)\r\n",
      "Requirement already satisfied: inscriptis>=2.2.0 in /home/evanerwee/Prod/graphrag-toolkit/.venv/lib/python3.12/site-packages (from ir-datasets->FlagEmbedding) (2.6.0)\r\n",
      "Requirement already satisfied: lxml>=4.5.2 in /home/evanerwee/Prod/graphrag-toolkit/.venv/lib/python3.12/site-packages (from ir-datasets->FlagEmbedding) (5.4.0)\r\n",
      "Requirement already satisfied: trec-car-tools>=2.5.4 in /home/evanerwee/Prod/graphrag-toolkit/.venv/lib/python3.12/site-packages (from ir-datasets->FlagEmbedding) (2.6)\r\n",
      "Requirement already satisfied: lz4>=3.1.10 in /home/evanerwee/Prod/graphrag-toolkit/.venv/lib/python3.12/site-packages (from ir-datasets->FlagEmbedding) (4.4.4)\r\n",
      "Requirement already satisfied: warc3-wet>=0.2.3 in /home/evanerwee/Prod/graphrag-toolkit/.venv/lib/python3.12/site-packages (from ir-datasets->FlagEmbedding) (0.2.5)\r\n",
      "Requirement already satisfied: warc3-wet-clueweb09>=0.2.5 in /home/evanerwee/Prod/graphrag-toolkit/.venv/lib/python3.12/site-packages (from ir-datasets->FlagEmbedding) (0.2.5)\r\n",
      "Requirement already satisfied: zlib-state>=0.1.3 in /home/evanerwee/Prod/graphrag-toolkit/.venv/lib/python3.12/site-packages (from ir-datasets->FlagEmbedding) (0.1.9)\r\n",
      "Requirement already satisfied: ijson>=3.1.3 in /home/evanerwee/Prod/graphrag-toolkit/.venv/lib/python3.12/site-packages (from ir-datasets->FlagEmbedding) (3.4.0)\r\n",
      "Requirement already satisfied: unlzw3>=0.2.1 in /home/evanerwee/Prod/graphrag-toolkit/.venv/lib/python3.12/site-packages (from ir-datasets->FlagEmbedding) (0.2.3)\r\n",
      "Requirement already satisfied: MarkupSafe>=2.0 in /home/evanerwee/Prod/graphrag-toolkit/.venv/lib/python3.12/site-packages (from jinja2->torch) (3.0.2)\r\n",
      "Requirement already satisfied: scikit-learn in /home/evanerwee/Prod/graphrag-toolkit/.venv/lib/python3.12/site-packages (from sentence_transformers->FlagEmbedding) (1.6.1)\r\n",
      "Requirement already satisfied: scipy in /home/evanerwee/Prod/graphrag-toolkit/.venv/lib/python3.12/site-packages (from sentence_transformers->FlagEmbedding) (1.15.3)\r\n",
      "Requirement already satisfied: Pillow in /home/evanerwee/Prod/graphrag-toolkit/.venv/lib/python3.12/site-packages (from sentence_transformers->FlagEmbedding) (11.2.1)\r\n",
      "Requirement already satisfied: soupsieve>1.2 in /home/evanerwee/Prod/graphrag-toolkit/.venv/lib/python3.12/site-packages (from beautifulsoup4>=4.4.1->ir-datasets->FlagEmbedding) (2.7)\r\n",
      "Requirement already satisfied: aiohttp!=4.0.0a0,!=4.0.0a1 in /home/evanerwee/Prod/graphrag-toolkit/.venv/lib/python3.12/site-packages (from fsspec[http]<=2025.3.0,>=2023.1.0->datasets>=2.19.0->FlagEmbedding) (3.12.2)\r\n",
      "Requirement already satisfied: hf-xet<2.0.0,>=1.1.2 in /home/evanerwee/Prod/graphrag-toolkit/.venv/lib/python3.12/site-packages (from huggingface-hub>=0.21.0->accelerate>=0.20.1->FlagEmbedding) (1.1.2)\r\n",
      "Requirement already satisfied: charset-normalizer<4,>=2 in /home/evanerwee/Prod/graphrag-toolkit/.venv/lib/python3.12/site-packages (from requests>=2.32.2->datasets>=2.19.0->FlagEmbedding) (3.4.2)\r\n",
      "Requirement already satisfied: idna<4,>=2.5 in /home/evanerwee/Prod/graphrag-toolkit/.venv/lib/python3.12/site-packages (from requests>=2.32.2->datasets>=2.19.0->FlagEmbedding) (3.10)\r\n",
      "Requirement already satisfied: urllib3<3,>=1.21.1 in /home/evanerwee/Prod/graphrag-toolkit/.venv/lib/python3.12/site-packages (from requests>=2.32.2->datasets>=2.19.0->FlagEmbedding) (2.4.0)\r\n",
      "Requirement already satisfied: certifi>=2017.4.17 in /home/evanerwee/Prod/graphrag-toolkit/.venv/lib/python3.12/site-packages (from requests>=2.32.2->datasets>=2.19.0->FlagEmbedding) (2025.4.26)\r\n",
      "Requirement already satisfied: cbor>=1.0.0 in /home/evanerwee/Prod/graphrag-toolkit/.venv/lib/python3.12/site-packages (from trec-car-tools>=2.5.4->ir-datasets->FlagEmbedding) (1.0.0)\r\n",
      "Requirement already satisfied: python-dateutil>=2.8.2 in /home/evanerwee/Prod/graphrag-toolkit/.venv/lib/python3.12/site-packages (from pandas->datasets>=2.19.0->FlagEmbedding) (2.9.0.post0)\r\n",
      "Requirement already satisfied: pytz>=2020.1 in /home/evanerwee/Prod/graphrag-toolkit/.venv/lib/python3.12/site-packages (from pandas->datasets>=2.19.0->FlagEmbedding) (2025.2)\r\n",
      "Requirement already satisfied: tzdata>=2022.7 in /home/evanerwee/Prod/graphrag-toolkit/.venv/lib/python3.12/site-packages (from pandas->datasets>=2.19.0->FlagEmbedding) (2025.2)\r\n",
      "Requirement already satisfied: joblib>=1.2.0 in /home/evanerwee/Prod/graphrag-toolkit/.venv/lib/python3.12/site-packages (from scikit-learn->sentence_transformers->FlagEmbedding) (1.5.1)\r\n",
      "Requirement already satisfied: threadpoolctl>=3.1.0 in /home/evanerwee/Prod/graphrag-toolkit/.venv/lib/python3.12/site-packages (from scikit-learn->sentence_transformers->FlagEmbedding) (3.6.0)\r\n",
      "Requirement already satisfied: aiohappyeyeballs>=2.5.0 in /home/evanerwee/Prod/graphrag-toolkit/.venv/lib/python3.12/site-packages (from aiohttp!=4.0.0a0,!=4.0.0a1->fsspec[http]<=2025.3.0,>=2023.1.0->datasets>=2.19.0->FlagEmbedding) (2.6.1)\r\n",
      "Requirement already satisfied: aiosignal>=1.1.2 in /home/evanerwee/Prod/graphrag-toolkit/.venv/lib/python3.12/site-packages (from aiohttp!=4.0.0a0,!=4.0.0a1->fsspec[http]<=2025.3.0,>=2023.1.0->datasets>=2.19.0->FlagEmbedding) (1.3.2)\r\n",
      "Requirement already satisfied: attrs>=17.3.0 in /home/evanerwee/Prod/graphrag-toolkit/.venv/lib/python3.12/site-packages (from aiohttp!=4.0.0a0,!=4.0.0a1->fsspec[http]<=2025.3.0,>=2023.1.0->datasets>=2.19.0->FlagEmbedding) (25.3.0)\r\n",
      "Requirement already satisfied: frozenlist>=1.1.1 in /home/evanerwee/Prod/graphrag-toolkit/.venv/lib/python3.12/site-packages (from aiohttp!=4.0.0a0,!=4.0.0a1->fsspec[http]<=2025.3.0,>=2023.1.0->datasets>=2.19.0->FlagEmbedding) (1.6.0)\r\n",
      "Requirement already satisfied: multidict<7.0,>=4.5 in /home/evanerwee/Prod/graphrag-toolkit/.venv/lib/python3.12/site-packages (from aiohttp!=4.0.0a0,!=4.0.0a1->fsspec[http]<=2025.3.0,>=2023.1.0->datasets>=2.19.0->FlagEmbedding) (6.4.4)\r\n",
      "Requirement already satisfied: propcache>=0.2.0 in /home/evanerwee/Prod/graphrag-toolkit/.venv/lib/python3.12/site-packages (from aiohttp!=4.0.0a0,!=4.0.0a1->fsspec[http]<=2025.3.0,>=2023.1.0->datasets>=2.19.0->FlagEmbedding) (0.3.1)\r\n",
      "Requirement already satisfied: yarl<2.0,>=1.17.0 in /home/evanerwee/Prod/graphrag-toolkit/.venv/lib/python3.12/site-packages (from aiohttp!=4.0.0a0,!=4.0.0a1->fsspec[http]<=2025.3.0,>=2023.1.0->datasets>=2.19.0->FlagEmbedding) (1.20.0)\r\n",
      "Requirement already satisfied: six>=1.5 in /home/evanerwee/Prod/graphrag-toolkit/.venv/lib/python3.12/site-packages (from python-dateutil>=2.8.2->pandas->datasets>=2.19.0->FlagEmbedding) (1.17.0)\r\n",
      "\r\n",
      "\u001B[1m[\u001B[0m\u001B[34;49mnotice\u001B[0m\u001B[1;39;49m]\u001B[0m\u001B[39;49m A new release of pip is available: \u001B[0m\u001B[31;49m25.0.1\u001B[0m\u001B[39;49m -> \u001B[0m\u001B[32;49m25.1.1\u001B[0m\r\n",
      "\u001B[1m[\u001B[0m\u001B[34;49mnotice\u001B[0m\u001B[1;39;49m]\u001B[0m\u001B[39;49m To update, run: \u001B[0m\u001B[32;49mpip install --upgrade pip\u001B[0m\r\n"
     ]
    }
   ],
   "execution_count": 13
  },
  {
   "cell_type": "code",
   "id": "bf8e359be98f9523",
   "metadata": {
    "ExecuteTime": {
     "end_time": "2025-05-29T15:50:25.802354Z",
     "start_time": "2025-05-29T15:50:25.801409Z"
    }
   },
   "source": [],
   "outputs": [],
   "execution_count": null
  }
 ],
 "metadata": {
  "kernelspec": {
   "display_name": "Python 3",
   "language": "python",
   "name": "python3"
  },
  "language_info": {
   "codemirror_mode": {
    "name": "ipython",
    "version": 3
   },
   "file_extension": ".py",
   "mimetype": "text/x-python",
   "name": "python",
   "nbconvert_exporter": "python",
   "pygments_lexer": "ipython3",
   "version": "3.10.8"
  }
 },
 "nbformat": 4,
 "nbformat_minor": 5
}
