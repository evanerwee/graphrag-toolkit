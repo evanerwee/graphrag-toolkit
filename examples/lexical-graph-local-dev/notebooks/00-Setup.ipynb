{
 "cells": [
  {
   "cell_type": "markdown",
   "id": "65a1effc",
   "metadata": {},
   "source": "# Desktop Setup using Postgre"
  },
  {
   "cell_type": "markdown",
   "id": "a4fd436a",
   "metadata": {},
   "source": [
    "Install the graphrag-toolkit-lexical-graph:"
   ]
  },
  {
   "cell_type": "code",
   "id": "a3947399",
   "metadata": {},
   "source": "!pip install https://github.com/awslabs/graphrag-toolkit/archive/refs/tags/v3.6.1.zip#subdirectory=lexical-graph",
   "outputs": [],
   "execution_count": null
  },
  {
   "metadata": {},
   "cell_type": "code",
   "source": "!pip install https://github.com/awslabs/graphrag-toolkit/archive/refs/tags/v3.6.0.zip#subdirectory=lexical-graph-contrib/falkordb",
   "id": "d2aab3c4d991059",
   "outputs": [],
   "execution_count": null
  },
  {
   "cell_type": "markdown",
   "id": "7d043070",
   "metadata": {},
   "source": [
    "### Postgres with pgvector\n",
    "\n",
    "If you are using a Postgres database with the pgvector extension as a vector store, install the following dependencies:"
   ]
  },
  {
   "cell_type": "code",
   "id": "cb0cd0a5",
   "metadata": {},
   "source": [
    "!pip install psycopg2-binary pgvector"
   ],
   "outputs": [],
   "execution_count": null
  },
  {
   "cell_type": "markdown",
   "id": "d2a8c967",
   "metadata": {},
   "source": [
    "## Additional dependencies"
   ]
  },
  {
   "cell_type": "markdown",
   "id": "a49587ec",
   "metadata": {},
   "source": [
    "### LlamaIndex"
   ]
  },
  {
   "cell_type": "markdown",
   "id": "402f329a",
   "metadata": {},
   "source": [
    "Install any necessary LlamaIndex reader depedencies. For the examples in these notebooks, you'll need the Web readers:"
   ]
  },
  {
   "cell_type": "code",
   "id": "f439752b",
   "metadata": {},
   "source": [
    "!pip install llama-index-readers-web"
   ],
   "outputs": [],
   "execution_count": null
  },
  {
   "cell_type": "markdown",
   "id": "5a46d96e",
   "metadata": {},
   "source": [
    "### Rerankers"
   ]
  },
  {
   "cell_type": "markdown",
   "id": "4cb92c81",
   "metadata": {},
   "source": [
    "If you intend to use the `SentenceReranker` with the `TraversalBasedRetriever` (see the details [here](https://github.com/awslabs/graphrag-toolkit/blob/main/docs/lexical-graph/querying.md#statement-reranking)), install the following dependencies: "
   ]
  },
  {
   "cell_type": "code",
   "id": "a704c21d",
   "metadata": {},
   "source": [
    "!pip install torch sentence_transformers"
   ],
   "outputs": [],
   "execution_count": null
  },
  {
   "cell_type": "markdown",
   "id": "8e89630b",
   "metadata": {},
   "source": [
    "If you intend to use the `BGEReranker` with a GPU machine (see the details [here](https://github.com/awslabs/graphrag-toolkit/blob/main/docs/lexical-graph/querying.md#semanticguidedretriever-with-a-reranking-beam-search)), install the following dependencies: "
   ]
  },
  {
   "cell_type": "code",
   "id": "67f7d824",
   "metadata": {},
   "source": [
    "!pip install torch FlagEmbedding"
   ],
   "outputs": [],
   "execution_count": null
  },
  {
   "metadata": {},
   "cell_type": "code",
   "source": "",
   "id": "bf8e359be98f9523",
   "outputs": [],
   "execution_count": null
  }
 ],
 "metadata": {
  "kernelspec": {
   "display_name": "Python 3",
   "language": "python",
   "name": "python3"
  },
  "language_info": {
   "codemirror_mode": {
    "name": "ipython",
    "version": 3
   },
   "file_extension": ".py",
   "mimetype": "text/x-python",
   "name": "python",
   "nbconvert_exporter": "python",
   "pygments_lexer": "ipython3",
   "version": "3.10.8"
  }
 },
 "nbformat": 4,
 "nbformat_minor": 5
}
