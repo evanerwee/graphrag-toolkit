{
 "cells": [
  {
   "cell_type": "markdown",
   "id": "3eb1535a",
   "metadata": {},
   "source": "# 01 - Combined Extract and Build"
  },
  {
   "cell_type": "markdown",
   "id": "e3f529c1",
   "metadata": {},
   "source": [
    "## Setup\n",
    "\n",
    "If you haven't already, install the toolkit and dependencies using the [Setup](./00-Setup.ipynb) notebook."
   ]
  },
  {
   "cell_type": "markdown",
   "id": "0aa94cc9",
   "metadata": {},
   "source": [
    "## Continous ingest\n",
    "\n",
    "See [Continous ingest](https://github.com/awslabs/graphrag-toolkit/blob/main/docs/lexical-graph/indexing.md#continous-ingest)."
   ]
  },
  {
   "cell_type": "code",
   "id": "7ec68542",
   "metadata": {
    "ExecuteTime": {
     "end_time": "2025-05-27T20:47:12.768687Z",
     "start_time": "2025-05-27T20:45:54.696125Z"
    }
   },
   "source": [
    "%reload_ext dotenv\n",
    "%dotenv\n",
    "\n",
    "import os\n",
    "\n",
    "from graphrag_toolkit.lexical_graph import LexicalGraphIndex, set_logging_config\n",
    "from graphrag_toolkit.lexical_graph.storage import VectorStoreFactory\n",
    "from graphrag_toolkit.lexical_graph.storage import GraphStoreFactory\n",
    "from graphrag_toolkit.lexical_graph.storage.graph.falkordb import FalkorDBGraphStoreFactory\n",
    "\n",
    "GraphStoreFactory.register(FalkorDBGraphStoreFactory)\n",
    "\n",
    "from llama_index.readers.web import SimpleWebPageReader\n",
    "\n",
    "graph_store = GraphStoreFactory.for_graph_store(os.environ['GRAPH_STORE'])\n",
    "vector_store = VectorStoreFactory.for_vector_store(os.environ['VECTOR_STORE'])\n",
    "\n",
    "graph_index = LexicalGraphIndex(\n",
    "    graph_store, \n",
    "    vector_store\n",
    ")\n",
    "\n",
    "doc_urls = [\n",
    "    'https://docs.aws.amazon.com/neptune/latest/userguide/intro.html',\n",
    "    'https://docs.aws.amazon.com/neptune-analytics/latest/userguide/what-is-neptune-analytics.html',\n",
    "    'https://docs.aws.amazon.com/neptune-analytics/latest/userguide/neptune-analytics-features.html',\n",
    "    'https://docs.aws.amazon.com/neptune-analytics/latest/userguide/neptune-analytics-vs-neptune-database.html'\n",
    "]\n",
    "\n",
    "docs = SimpleWebPageReader(\n",
    "    html_to_text=True,\n",
    "    metadata_fn=lambda url:{'url': url}\n",
    ").load_data(doc_urls)\n",
    "\n",
    "graph_index.extract_and_build(docs, show_progress=True)\n",
    "\n",
    "print('Complete')"
   ],
   "outputs": [
    {
     "name": "stderr",
     "output_type": "stream",
     "text": [
      "WARNING:root:Removing unpickleable private attribute _chunking_tokenizer_fn\n",
      "WARNING:root:Removing unpickleable private attribute _split_fns\n",
      "WARNING:root:Removing unpickleable private attribute _sub_sentence_split_fns\n",
      "WARNING:root:Removing unpickleable private attribute _chunking_tokenizer_fn\n",
      "WARNING:root:Removing unpickleable private attribute _split_fns\n",
      "WARNING:root:Removing unpickleable private attribute _sub_sentence_split_fns\n",
      "WARNING:root:Removing unpickleable private attribute _asession\n",
      "WARNING:root:Removing unpickleable private attribute _client\n",
      "WARNING:root:Removing unpickleable private attribute _asession\n",
      "WARNING:root:Removing unpickleable private attribute _client\n",
      "WARNING:root:Removing unpickleable private attribute _asession\n",
      "WARNING:root:Removing unpickleable private attribute _client\n",
      "WARNING:root:Removing unpickleable private attribute _chunking_tokenizer_fn\n",
      "WARNING:root:Removing unpickleable private attribute _split_fns\n",
      "WARNING:root:Removing unpickleable private attribute _sub_sentence_split_fns\n",
      "WARNING:root:Removing unpickleable private attribute _chunking_tokenizer_fn\n",
      "WARNING:root:Removing unpickleable private attribute _split_fns\n",
      "WARNING:root:Removing unpickleable private attribute _sub_sentence_split_fns\n",
      "WARNING:root:Removing unpickleable private attribute _asession\n",
      "WARNING:root:Removing unpickleable private attribute _client\n",
      "WARNING:root:Removing unpickleable private attribute _asession\n",
      "WARNING:root:Removing unpickleable private attribute _client\n",
      "WARNING:root:Removing unpickleable private attribute _asession\n",
      "WARNING:root:Removing unpickleable private attribute _client\n",
      "Extracting propositions [nodes: 5, num_workers: 4]: 100%|██████████| 5/5 [00:10<00:00,  2.05s/it]t]\n",
      "Extracting propositions [nodes: 10, num_workers: 4]: 100%|██████████| 10/10 [00:18<00:00,  1.83s/it]\n",
      "Extracting topics [nodes: 5, num_workers: 4]: 100%|██████████| 5/5 [00:26<00:00,  5.33s/it]t]\n",
      "Extracting topics [nodes: 10, num_workers: 4]: 100%|██████████| 10/10 [00:51<00:00,  5.13s/it]\n",
      "INFO:graphrag_toolkit.lexical_graph.indexing.build.build_pipeline:Running build pipeline [batch_size: 4, num_workers: 2, job_sizes: [451, 199], batch_writes_enabled: True, batch_write_size: 25]\n",
      "WARNING:root:Removing unpickleable private attribute _asession\n",
      "WARNING:root:Removing unpickleable private attribute _client\n",
      "WARNING:root:Removing unpickleable private attribute _asession\n",
      "WARNING:root:Removing unpickleable private attribute _client\n",
      "WARNING:root:Removing unpickleable private attribute _asession\n",
      "WARNING:root:Removing unpickleable private attribute _client\n",
      "WARNING:root:Removing unpickleable private attribute _asession\n",
      "WARNING:root:Removing unpickleable private attribute _client\n",
      "Building graph [batch_writes_enabled: True, batch_write_size: 25]: 100%|██████████| 199/199 [00:00<00:00, 51231.68it/s]\n",
      "Building graph [batch_writes_enabled: True, batch_write_size: 25]: 100%|██████████| 451/451 [00:00<00:00, 54455.80it/s]\n",
      "Building vector index [batch_writes_enabled: True, batch_write_size: 25]: 100%|██████████| 199/199 [00:00<00:00, 862258.78it/s]\n",
      "INFO:botocore.tokens:Loading cached SSO token for d\n",
      "Building vector index [batch_writes_enabled: True, batch_write_size: 25]: 100%|██████████| 451/451 [00:00<00:00, 1164797.48it/s]\n",
      "INFO:botocore.tokens:Loading cached SSO token for d\n"
     ]
    },
    {
     "name": "stdout",
     "output_type": "stream",
     "text": [
      "Complete\n"
     ]
    }
   ],
   "execution_count": 1
  },
  {
   "metadata": {},
   "cell_type": "code",
   "source": "",
   "id": "5e2b536ce6540fb5",
   "outputs": [],
   "execution_count": null
  }
 ],
 "metadata": {
  "kernelspec": {
   "display_name": "Python 3",
   "language": "python",
   "name": "python3"
  },
  "language_info": {
   "codemirror_mode": {
    "name": "ipython",
    "version": 3
   },
   "file_extension": ".py",
   "mimetype": "text/x-python",
   "name": "python",
   "nbconvert_exporter": "python",
   "pygments_lexer": "ipython3",
   "version": "3.10.8"
  }
 },
 "nbformat": 4,
 "nbformat_minor": 5
}
