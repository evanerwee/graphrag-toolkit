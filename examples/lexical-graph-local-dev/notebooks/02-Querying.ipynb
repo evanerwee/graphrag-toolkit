{
 "cells": [
  {
   "metadata": {},
   "cell_type": "markdown",
   "source": "# Querying",
   "id": "3bfeb79c9431a3c6"
  },
  {
   "metadata": {
    "ExecuteTime": {
     "end_time": "2025-05-27T21:59:20.855845Z",
     "start_time": "2025-05-27T21:59:18.718313Z"
    }
   },
   "cell_type": "code",
   "source": [
    "%reload_ext dotenv\n",
    "%dotenv\n",
    "\n",
    "import os\n",
    "\n",
    "from graphrag_toolkit.lexical_graph.storage.graph.falkordb import FalkorDBGraphStoreFactory\n",
    "from graphrag_toolkit.lexical_graph.storage import GraphStoreFactory\n",
    "from graphrag_toolkit.lexical_graph.storage import VectorStoreFactory\n",
    "from graphrag_toolkit.lexical_graph import set_logging_config\n",
    "\n",
    "set_logging_config('INFO')\n",
    "\n",
    "# Register the FalkorDB backend with the factory\n",
    "GraphStoreFactory.register(FalkorDBGraphStoreFactory)\n",
    "\n",
    "# Create graph and vector stores\n",
    "graph_store = GraphStoreFactory.for_graph_store(os.environ['GRAPH_STORE'])\n",
    "vector_store = VectorStoreFactory.for_vector_store(os.environ['VECTOR_STORE'])"
   ],
   "id": "6edfdf2594abab7c",
   "outputs": [],
   "execution_count": 1
  },
  {
   "metadata": {},
   "cell_type": "markdown",
   "source": [
    "### SemanticGuidedRetriever\n",
    "\n",
    "See [SemanticGuidedRetriever](https://github.com/awslabs/graphrag-toolkit/blob/main/docs/lexical-graph/querying.md#semanticguidedretriever)."
   ],
   "id": "310c60207b80a332"
  },
  {
   "cell_type": "code",
   "id": "initial_id",
   "metadata": {
    "collapsed": true,
    "ExecuteTime": {
     "end_time": "2025-05-27T21:59:45.727402Z",
     "start_time": "2025-05-27T21:59:23.774556Z"
    }
   },
   "source": [
    "from graphrag_toolkit.lexical_graph import LexicalGraphQueryEngine\n",
    "from graphrag_toolkit.lexical_graph.retrieval.retrievers import RerankingBeamGraphSearch, StatementCosineSimilaritySearch, KeywordRankingSearch\n",
    "from graphrag_toolkit.lexical_graph.retrieval.post_processors import SentenceReranker\n",
    "from graphrag_toolkit.lexical_graph.config import GraphRAGConfig\n",
    "\n",
    "GraphRAGConfig._user_prompt = None  # Clear the invalid ARN value\n",
    "GraphRAGConfig._user_prompt_arn = \"arn:aws:bedrock:us-east-1:188967239867:prompt/TSF4PI4A6C\"\n",
    "\n",
    "# Trigger proper fetch\n",
    "resolved_prompt = GraphRAGConfig.user_prompt\n",
    "print(\"Prompt resolved as text:\\n\", resolved_prompt)\n",
    "\n",
    "\n",
    "cosine_retriever = StatementCosineSimilaritySearch(\n",
    "    vector_store=vector_store,\n",
    "    graph_store=graph_store,\n",
    "    top_k=50\n",
    ")\n",
    "\n",
    "keyword_retriever = KeywordRankingSearch(\n",
    "    vector_store=vector_store,\n",
    "    graph_store=graph_store,\n",
    "    max_keywords=10\n",
    ")\n",
    "\n",
    "reranker = SentenceReranker(\n",
    "    batch_size=128\n",
    ")\n",
    "\n",
    "beam_retriever = RerankingBeamGraphSearch(\n",
    "    vector_store=vector_store,\n",
    "    graph_store=graph_store,\n",
    "    reranker=reranker,\n",
    "    initial_retrievers=[cosine_retriever, keyword_retriever],\n",
    "    max_depth=8,\n",
    "    beam_width=100\n",
    ")\n",
    "\n",
    "query_engine = LexicalGraphQueryEngine.for_semantic_guided_search(\n",
    "    graph_store,\n",
    "    vector_store,\n",
    "    retrievers=[\n",
    "        cosine_retriever,\n",
    "        keyword_retriever,\n",
    "        beam_retriever\n",
    "    ],\n",
    "\n",
    ")\n",
    "\n",
    "response = query_engine.query(\"What are the similarities and differences between Neptune Database and Neptune Analytics?\")\n",
    "\n",
    "print(response.response)"
   ],
   "outputs": [
    {
     "name": "stdout",
     "output_type": "stream",
     "text": [
      "2025-05-27 17:59:23:INFO:g.l.config     :Fetching prompt using ARN: arn:aws:bedrock:us-east-1:188967239867:prompt/TSF4PI4A6C\n",
      "2025-05-27 17:59:24:INFO:g.l.config     :Successfully retrieved prompt text (first 100 chars): <question>\n",
      "{query}\n",
      "</question>...\n",
      "Prompt resolved as text:\n",
      " <question>\n",
      "{query}\n",
      "</question>\n"
     ]
    },
    {
     "name": "stderr",
     "output_type": "stream",
     "text": [
      "/home/evanerwee/Prod/graphrag-toolkit/.venv/lib/python3.12/site-packages/tqdm/auto.py:21: TqdmWarning: IProgress not found. Please update jupyter and ipywidgets. See https://ipywidgets.readthedocs.io/en/stable/user_install.html\n",
      "  from .autonotebook import tqdm as notebook_tqdm\n"
     ]
    },
    {
     "name": "stdout",
     "output_type": "stream",
     "text": [
      "2025-05-27 17:59:30:INFO:g.l.r.r.rerank_beam_search:Retrieved 21 new nodes through beam search.\n",
      "Neptune Database and Neptune Analytics are both part of Amazon Neptune, but they serve different purposes and have distinct features. Here are the key similarities and differences:\n",
      "\n",
      "Similarities:\n",
      "1. Both are graph database services offered by Amazon Web Services [source_3.11, source_4.1, source_4.9].\n",
      "2. They are designed to work with highly connected datasets and graph data [source_3.18, source_3.19].\n",
      "3. Both support low-latency queries [source_1.11, source_2.20, source_3.22].\n",
      "\n",
      "Differences:\n",
      "1. Purpose:\n",
      "   - Neptune Database is a serverless graph database designed for optimal scalability and availability [source_1.3, source_1.4].\n",
      "   - Neptune Analytics is an analytics database engine specifically for analyzing graph databases and datasets [source_1.1, source_1.2].\n",
      "\n",
      "2. Use cases:\n",
      "   - Neptune Database is suitable for applications like fraud alerting, Customer 360, and social networking [source_1.14, source_1.23, source_1.24].\n",
      "   - Neptune Analytics is ideal for getting insights, finding trends, and performing intensive data analysis [source_1.8, source_2.2, source_2.3].\n",
      "\n",
      "3. Data processing:\n",
      "   - Neptune Database can scale to handle 100,000 queries per second [source_1.21].\n",
      "   - Neptune Analytics can process thousands of analytic queries per second and quickly analyze large amounts of graph data in memory [source_1.9, source_1.12].\n",
      "\n",
      "4. Data storage:\n",
      "   - Neptune Database provides Multi-AZ high availability and supports multi-Region deployments [source_1.16, source_1.30].\n",
      "   - Neptune Analytics stores large graph datasets in memory for quick analysis [source_2.10].\n",
      "\n",
      "5. Features:\n",
      "   - Neptune Database focuses on providing a scalable, highly available graph database [source_1.4].\n",
      "   - Neptune Analytics offers features like vector search capabilities, a library of optimized graph analytic algorithms, and support for data science workflows [source_2.18, source_2.21, source_1.28].\n",
      "\n",
      "6. Data sources:\n",
      "   - Neptune Analytics can analyze data from Neptune Database, as well as graphs stored in data lakes or other external sources [source_1.10, source_1.17, source_2.16].\n",
      "\n",
      "7. Workload optimization:\n",
      "   - Neptune Database is designed for operational workloads [source_1.3].\n",
      "   - Neptune Analytics is optimized for analytical processing, data science, and investigatory workloads [source_2.11, source_2.14, source_2.15].\n",
      "\n",
      "In summary, while both services work with graph data, Neptune Database is focused on operational graph database needs, while Neptune Analytics is tailored for in-depth analysis and insights from graph data [source_2.5, source_2.6].\n"
     ]
    }
   ],
   "execution_count": 2
  },
  {
   "metadata": {},
   "cell_type": "code",
   "source": "",
   "id": "d74997bf365edc3a",
   "outputs": [],
   "execution_count": null
  }
 ],
 "metadata": {
  "kernelspec": {
   "display_name": "Python 3",
   "language": "python",
   "name": "python3"
  },
  "language_info": {
   "codemirror_mode": {
    "name": "ipython",
    "version": 2
   },
   "file_extension": ".py",
   "mimetype": "text/x-python",
   "name": "python",
   "nbconvert_exporter": "python",
   "pygments_lexer": "ipython2",
   "version": "2.7.6"
  }
 },
 "nbformat": 4,
 "nbformat_minor": 5
}
