{
 "cells": [
  {
   "cell_type": "markdown",
   "id": "65a1effc",
   "metadata": {},
   "source": [
    "# Setup"
   ]
  },
  {
   "cell_type": "markdown",
   "id": "a4fd436a",
   "metadata": {},
   "source": [
    "Install the graphrag-toolkit-lexical-graph:"
   ]
  },
  {
   "cell_type": "code",
   "execution_count": null,
   "id": "a3947399",
   "metadata": {},
   "outputs": [],
   "source": [
    "!pip install https://github.com/awslabs/graphrag-toolkit/archive/refs/tags/v3.7.0.zip#subdirectory=lexical-graph"
   ]
  },
  {
   "cell_type": "markdown",
   "id": "d0c4cfb7",
   "metadata": {},
   "source": [
    "## Vector Store"
   ]
  },
  {
   "cell_type": "markdown",
   "id": "82508322",
   "metadata": {},
   "source": [
    "### Amazon OpenSearch Serverless\n",
    "\n",
    "If you are using Amazon OpenSearch Serverless as a vector store, install the following dependencies:"
   ]
  },
  {
   "cell_type": "code",
   "execution_count": null,
   "id": "48697a86",
   "metadata": {},
   "outputs": [],
   "source": [
    "!pip install opensearch-py llama-index-vector-stores-opensearch"
   ]
  },
  {
   "cell_type": "markdown",
   "id": "7d043070",
   "metadata": {},
   "source": [
    "### Postgres with pgvector\n",
    "\n",
    "If you are using a Postgres database with the pgvector extension as a vector store, install the following dependencies:"
   ]
  },
  {
   "cell_type": "code",
   "execution_count": null,
   "id": "cb0cd0a5",
   "metadata": {},
   "outputs": [],
   "source": [
    "!pip install psycopg2-binary pgvector"
   ]
  },
  {
   "cell_type": "markdown",
   "id": "d2a8c967",
   "metadata": {},
   "source": [
    "## Additional dependencies"
   ]
  },
  {
   "cell_type": "markdown",
   "id": "a49587ec",
   "metadata": {},
   "source": [
    "### LlamaIndex"
   ]
  },
  {
   "cell_type": "markdown",
   "id": "402f329a",
   "metadata": {},
   "source": [
    "Install any necessary LlamaIndex reader depedencies. For the examples in these notebooks, you'll need the Web readers:"
   ]
  },
  {
   "cell_type": "code",
   "execution_count": null,
   "id": "f439752b",
   "metadata": {},
   "outputs": [],
   "source": [
    "!pip install llama-index-readers-web"
   ]
  },
  {
   "cell_type": "markdown",
   "id": "5a46d96e",
   "metadata": {},
   "source": [
    "### Rerankers"
   ]
  },
  {
   "cell_type": "markdown",
   "id": "4cb92c81",
   "metadata": {},
   "source": [
    "If you intend to use the `SentenceReranker` with the `TraversalBasedRetriever` (see the details [here](https://github.com/awslabs/graphrag-toolkit/blob/main/docs/lexical-graph/querying.md#statement-reranking)), install the following dependencies: "
   ]
  },
  {
   "cell_type": "code",
   "execution_count": null,
   "id": "a704c21d",
   "metadata": {},
   "outputs": [],
   "source": [
    "!pip install torch sentence_transformers"
   ]
  },
  {
   "cell_type": "markdown",
   "id": "8e89630b",
   "metadata": {},
   "source": [
    "If you intend to use the `BGEReranker` with a GPU machine (see the details [here](https://github.com/awslabs/graphrag-toolkit/blob/main/docs/lexical-graph/querying.md#semanticguidedretriever-with-a-reranking-beam-search)), install the following dependencies: "
   ]
  },
  {
   "cell_type": "code",
   "execution_count": null,
   "id": "67f7d824",
   "metadata": {},
   "outputs": [],
   "source": [
    "!pip install torch FlagEmbedding"
   ]
  }
 ],
 "metadata": {
  "kernelspec": {
   "display_name": "Python 3",
   "language": "python",
   "name": "python3"
  },
  "language_info": {
   "codemirror_mode": {
    "name": "ipython",
    "version": 3
   },
   "file_extension": ".py",
   "mimetype": "text/x-python",
   "name": "python",
   "nbconvert_exporter": "python",
   "pygments_lexer": "ipython3",
   "version": "3.10.8"
  }
 },
 "nbformat": 4,
 "nbformat_minor": 5
}
