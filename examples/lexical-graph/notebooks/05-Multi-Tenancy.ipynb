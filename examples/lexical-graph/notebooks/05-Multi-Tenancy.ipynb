{
 "cells": [
  {
   "cell_type": "markdown",
   "id": "842ab4c2",
   "metadata": {},
   "source": [
    "# Multi-Tenancy"
   ]
  },
  {
   "cell_type": "markdown",
   "id": "8b4b1881",
   "metadata": {},
   "source": [
    "## Setup\n",
    "\n",
    "If you haven't already, install the toolkit and dependencies using the [Setup](./00-Setup.ipynb) notebook."
   ]
  },
  {
   "cell_type": "markdown",
   "id": "7454b8b8",
   "metadata": {},
   "source": [
    "### Create a tenant-specific graph\n",
    "\n",
    "In this example, we'll create an `aoss` tenant-specific graph for information about Amazon OpenSearch Serverless."
   ]
  },
  {
   "cell_type": "code",
   "execution_count": null,
   "id": "28072c7e",
   "metadata": {},
   "outputs": [],
   "source": [
    "%reload_ext dotenv\n",
    "%dotenv\n",
    "\n",
    "import os\n",
    "\n",
    "from graphrag_toolkit.lexical_graph import LexicalGraphIndex, GraphRAGConfig, set_logging_config\n",
    "from graphrag_toolkit.lexical_graph.storage import GraphStoreFactory\n",
    "from graphrag_toolkit.lexical_graph.storage import VectorStoreFactory\n",
    "\n",
    "from llama_index.readers.web import SimpleWebPageReader\n",
    "\n",
    "set_logging_config('INFO')\n",
    "\n",
    "graph_store = GraphStoreFactory.for_graph_store(os.environ['GRAPH_STORE'])\n",
    "vector_store = VectorStoreFactory.for_vector_store(os.environ['VECTOR_STORE'])\n",
    "\n",
    "graph_index = LexicalGraphIndex(\n",
    "    graph_store, \n",
    "    vector_store,\n",
    "    tenant_id='aoss'\n",
    ")\n",
    "\n",
    "doc_urls = [\n",
    "    'https://docs.aws.amazon.com/opensearch-service/latest/developerguide/serverless-overview.html',\n",
    "    'https://docs.aws.amazon.com/opensearch-service/latest/developerguide/serverless-comparison.html'\n",
    "]\n",
    "\n",
    "docs = SimpleWebPageReader(\n",
    "    html_to_text=True,\n",
    "    metadata_fn=lambda url:{'url': url}\n",
    ").load_data(doc_urls)\n",
    "\n",
    "graph_index.extract_and_build(docs, show_progress=True)\n",
    "\n",
    "print('Complete')"
   ]
  },
  {
   "cell_type": "markdown",
   "id": "190e085f",
   "metadata": {},
   "source": [
    "### Query a tenant-specific graph"
   ]
  },
  {
   "cell_type": "code",
   "execution_count": null,
   "id": "a5c029aa",
   "metadata": {},
   "outputs": [],
   "source": [
    "%reload_ext dotenv\n",
    "%dotenv\n",
    "\n",
    "import os\n",
    "\n",
    "from graphrag_toolkit.lexical_graph import set_logging_config\n",
    "from graphrag_toolkit.lexical_graph import LexicalGraphQueryEngine\n",
    "from graphrag_toolkit.lexical_graph.storage import GraphStoreFactory\n",
    "from graphrag_toolkit.lexical_graph.storage import VectorStoreFactory\n",
    "\n",
    "set_logging_config('INFO')\n",
    "\n",
    "graph_store = GraphStoreFactory.for_graph_store(os.environ['GRAPH_STORE'])\n",
    "vector_store = VectorStoreFactory.for_vector_store(os.environ['VECTOR_STORE'])\n",
    "\n",
    "query_engine = LexicalGraphQueryEngine.for_traversal_based_search(\n",
    "    graph_store, \n",
    "    vector_store,\n",
    "    tenant_id='aoss'\n",
    ")\n",
    "\n",
    "response = query_engine.query(\"What are the differences between OpenSearch Service and OpenSearch Serverless?\")\n",
    "\n",
    "print(f\"\"\"{response.response}\n",
    "\n",
    "retrieve_ms: {int(response.metadata['retrieve_ms'])}\n",
    "answer_ms  : {int(response.metadata['answer_ms'])}\n",
    "total_ms   : {int(response.metadata['total_ms'])}\n",
    "\"\"\")"
   ]
  },
  {
   "cell_type": "markdown",
   "id": "020a6d03",
   "metadata": {},
   "source": [
    "#### Check the default graph can't answer the same question\n",
    "\n",
    "If you have previously populated the default graph with details about Neptune Database and Neptune Analytics, you shoud get a response that says: \"The provided information does not contain any specific details about OpenSearch Service or OpenSearch Serverless. The search results primarily focus on Amazon Neptune, Neptune Analytics, and Neptune Database.\""
   ]
  },
  {
   "cell_type": "code",
   "execution_count": null,
   "id": "0408c0c1",
   "metadata": {},
   "outputs": [],
   "source": [
    "%reload_ext dotenv\n",
    "%dotenv\n",
    "\n",
    "import os\n",
    "\n",
    "from graphrag_toolkit.lexical_graph import set_logging_config\n",
    "from graphrag_toolkit.lexical_graph import LexicalGraphQueryEngine\n",
    "from graphrag_toolkit.lexical_graph.storage import GraphStoreFactory\n",
    "from graphrag_toolkit.lexical_graph.storage import VectorStoreFactory\n",
    "\n",
    "set_logging_config('INFO')\n",
    "\n",
    "graph_store = GraphStoreFactory.for_graph_store(os.environ['GRAPH_STORE'])\n",
    "vector_store = VectorStoreFactory.for_vector_store(os.environ['VECTOR_STORE'])\n",
    "\n",
    "query_engine = LexicalGraphQueryEngine.for_traversal_based_search(\n",
    "    graph_store, \n",
    "    vector_store\n",
    ")\n",
    "\n",
    "response = query_engine.query(\"What are the differences between OpenSearch Service and OpenSearch Serverless?\")\n",
    "\n",
    "print(f\"\"\"{response.response}\n",
    "\n",
    "retrieve_ms: {int(response.metadata['retrieve_ms'])}\n",
    "answer_ms  : {int(response.metadata['answer_ms'])}\n",
    "total_ms   : {int(response.metadata['total_ms'])}\n",
    "\"\"\")"
   ]
  },
  {
   "cell_type": "markdown",
   "id": "a98d114e",
   "metadata": {},
   "source": [
    "### And check that the `aoss` graph can't answer Neptune questions\n",
    "\n",
    "\"The search results do not contain any relevant information about Neptune Database or Neptune Analytics. To properly answer this question, I would need additional information specifically about these two services.\""
   ]
  },
  {
   "cell_type": "code",
   "execution_count": null,
   "id": "48588a49",
   "metadata": {},
   "outputs": [],
   "source": [
    "%reload_ext dotenv\n",
    "%dotenv\n",
    "\n",
    "import os\n",
    "\n",
    "from graphrag_toolkit.lexical_graph import set_logging_config\n",
    "from graphrag_toolkit.lexical_graph import LexicalGraphQueryEngine\n",
    "from graphrag_toolkit.lexical_graph.storage import GraphStoreFactory\n",
    "from graphrag_toolkit.lexical_graph.storage import VectorStoreFactory\n",
    "\n",
    "set_logging_config('INFO')\n",
    "\n",
    "graph_store = GraphStoreFactory.for_graph_store(os.environ['GRAPH_STORE'])\n",
    "vector_store = VectorStoreFactory.for_vector_store(os.environ['VECTOR_STORE'])\n",
    "\n",
    "query_engine = LexicalGraphQueryEngine.for_traversal_based_search(\n",
    "    graph_store, \n",
    "    vector_store,\n",
    "    tenant_id='aoss'\n",
    ")\n",
    "\n",
    "response = query_engine.query(\"What are the differences between Neptune Database and Neptune Analytics?\")\n",
    "\n",
    "print(f\"\"\"{response.response}\n",
    "\n",
    "retrieve_ms: {int(response.metadata['retrieve_ms'])}\n",
    "answer_ms  : {int(response.metadata['answer_ms'])}\n",
    "total_ms   : {int(response.metadata['total_ms'])}\n",
    "\"\"\")"
   ]
  },
  {
   "cell_type": "markdown",
   "id": "9f10408f",
   "metadata": {},
   "source": [
    "#### Multi-tenancy and metadata filtering"
   ]
  },
  {
   "cell_type": "code",
   "execution_count": null,
   "id": "2c65e3c7",
   "metadata": {},
   "outputs": [],
   "source": [
    "%reload_ext dotenv\n",
    "%dotenv\n",
    "\n",
    "import os\n",
    "\n",
    "from graphrag_toolkit.lexical_graph import set_logging_config\n",
    "from graphrag_toolkit.lexical_graph import LexicalGraphQueryEngine\n",
    "from graphrag_toolkit.lexical_graph.storage import GraphStoreFactory\n",
    "from graphrag_toolkit.lexical_graph.storage import VectorStoreFactory\n",
    "from graphrag_toolkit.lexical_graph.metadata import FilterConfig\n",
    "\n",
    "from llama_index.core.vector_stores.types import FilterOperator, MetadataFilter\n",
    "\n",
    "set_logging_config('INFO')\n",
    "\n",
    "graph_store = GraphStoreFactory.for_graph_store(os.environ['GRAPH_STORE'])\n",
    "vector_store = VectorStoreFactory.for_vector_store(os.environ['VECTOR_STORE'])\n",
    "\n",
    "query_engine = LexicalGraphQueryEngine.for_traversal_based_search(\n",
    "    graph_store, \n",
    "    vector_store,\n",
    "    tenant_id='aoss',\n",
    "    filter_config = FilterConfig(\n",
    "        MetadataFilter(\n",
    "            key='url',\n",
    "            value='https://docs.aws.amazon.com/opensearch-service/latest/developerguide/serverless-comparison.html',\n",
    "            operator=FilterOperator.EQ\n",
    "        )\n",
    "    )\n",
    ")\n",
    "\n",
    "response = query_engine.query(\"What are the differences between OpenSearch Service and OpenSearch Serverless?\")\n",
    "\n",
    "print(f\"\"\"{response.response}\n",
    "\n",
    "retrieve_ms: {int(response.metadata['retrieve_ms'])}\n",
    "answer_ms  : {int(response.metadata['answer_ms'])}\n",
    "total_ms   : {int(response.metadata['total_ms'])}\n",
    "\"\"\")"
   ]
  }
 ],
 "metadata": {
  "kernelspec": {
   "display_name": "Python 3",
   "language": "python",
   "name": "python3"
  },
  "language_info": {
   "codemirror_mode": {
    "name": "ipython",
    "version": 3
   },
   "file_extension": ".py",
   "mimetype": "text/x-python",
   "name": "python",
   "nbconvert_exporter": "python",
   "pygments_lexer": "ipython3",
   "version": "3.10.8"
  }
 },
 "nbformat": 4,
 "nbformat_minor": 5
}
